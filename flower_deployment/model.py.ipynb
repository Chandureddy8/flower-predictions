{
  "nbformat": 4,
  "nbformat_minor": 0,
  "metadata": {
    "kernelspec": {
      "display_name": "Python 3",
      "language": "python",
      "name": "python3"
    },
    "language_info": {
      "codemirror_mode": {
        "name": "ipython",
        "version": 3
      },
      "file_extension": ".py",
      "mimetype": "text/x-python",
      "name": "python",
      "nbconvert_exporter": "python",
      "pygments_lexer": "ipython3",
      "version": "3.7.5"
    },
    "colab": {
      "name": "00-My-Basic-Model.ipynb",
      "provenance": [],
      "collapsed_sections": [
        "E2W2F80WBi_5"
      ]
    }
  },
  "cells": [
    {
      "cell_type": "code",
      "metadata": {
        "id": "vTfC-mGABi_c"
      },
      "source": [
        "import numpy as np\n",
        "import pandas as pd"
      ],
      "execution_count": null,
      "outputs": []
    },
    {
      "cell_type": "code",
      "metadata": {
        "id": "xYkCt-XtBi_e"
      },
      "source": [
        "# iris = pd.read_csv(\"../DATA/iris.csv\")\n",
        "iris  = pd.read_csv(\"iris.csv\")"
      ],
      "execution_count": null,
      "outputs": []
    },
    {
      "cell_type": "code",
      "metadata": {
        "colab": {
          "base_uri": "https://localhost:8080/",
          "height": 195
        },
        "id": "JTHYKrDaBi_e",
        "outputId": "b471d7fc-41a0-4fa8-fcff-994b96668a08"
      },
      "source": [
        "iris.head()"
      ],
      "execution_count": null,
      "outputs": [
        {
          "output_type": "execute_result",
          "data": {
            "text/html": [
              "<div>\n",
              "<style scoped>\n",
              "    .dataframe tbody tr th:only-of-type {\n",
              "        vertical-align: middle;\n",
              "    }\n",
              "\n",
              "    .dataframe tbody tr th {\n",
              "        vertical-align: top;\n",
              "    }\n",
              "\n",
              "    .dataframe thead th {\n",
              "        text-align: right;\n",
              "    }\n",
              "</style>\n",
              "<table border=\"1\" class=\"dataframe\">\n",
              "  <thead>\n",
              "    <tr style=\"text-align: right;\">\n",
              "      <th></th>\n",
              "      <th>sepal_length</th>\n",
              "      <th>sepal_width</th>\n",
              "      <th>petal_length</th>\n",
              "      <th>petal_width</th>\n",
              "      <th>species</th>\n",
              "    </tr>\n",
              "  </thead>\n",
              "  <tbody>\n",
              "    <tr>\n",
              "      <th>0</th>\n",
              "      <td>5.1</td>\n",
              "      <td>3.5</td>\n",
              "      <td>1.4</td>\n",
              "      <td>0.2</td>\n",
              "      <td>setosa</td>\n",
              "    </tr>\n",
              "    <tr>\n",
              "      <th>1</th>\n",
              "      <td>4.9</td>\n",
              "      <td>3.0</td>\n",
              "      <td>1.4</td>\n",
              "      <td>0.2</td>\n",
              "      <td>setosa</td>\n",
              "    </tr>\n",
              "    <tr>\n",
              "      <th>2</th>\n",
              "      <td>4.7</td>\n",
              "      <td>3.2</td>\n",
              "      <td>1.3</td>\n",
              "      <td>0.2</td>\n",
              "      <td>setosa</td>\n",
              "    </tr>\n",
              "    <tr>\n",
              "      <th>3</th>\n",
              "      <td>4.6</td>\n",
              "      <td>3.1</td>\n",
              "      <td>1.5</td>\n",
              "      <td>0.2</td>\n",
              "      <td>setosa</td>\n",
              "    </tr>\n",
              "    <tr>\n",
              "      <th>4</th>\n",
              "      <td>5.0</td>\n",
              "      <td>3.6</td>\n",
              "      <td>1.4</td>\n",
              "      <td>0.2</td>\n",
              "      <td>setosa</td>\n",
              "    </tr>\n",
              "  </tbody>\n",
              "</table>\n",
              "</div>"
            ],
            "text/plain": [
              "   sepal_length  sepal_width  petal_length  petal_width species\n",
              "0           5.1          3.5           1.4          0.2  setosa\n",
              "1           4.9          3.0           1.4          0.2  setosa\n",
              "2           4.7          3.2           1.3          0.2  setosa\n",
              "3           4.6          3.1           1.5          0.2  setosa\n",
              "4           5.0          3.6           1.4          0.2  setosa"
            ]
          },
          "metadata": {
            "tags": []
          },
          "execution_count": 6
        }
      ]
    },
    {
      "cell_type": "markdown",
      "metadata": {
        "id": "pzuVvokKBi_h"
      },
      "source": [
        "## Data Processing"
      ]
    },
    {
      "cell_type": "markdown",
      "metadata": {
        "id": "mnl9keH7Bi_i"
      },
      "source": [
        "### Features and Target"
      ]
    },
    {
      "cell_type": "code",
      "metadata": {
        "colab": {
          "base_uri": "https://localhost:8080/"
        },
        "id": "Xt1jsWJWBi_j",
        "outputId": "e44d0a7f-1597-4336-88b6-0784ca51a408"
      },
      "source": [
        "iris.columns"
      ],
      "execution_count": null,
      "outputs": [
        {
          "output_type": "execute_result",
          "data": {
            "text/plain": [
              "Index(['sepal_length', 'sepal_width', 'petal_length', 'petal_width',\n",
              "       'species'],\n",
              "      dtype='object')"
            ]
          },
          "metadata": {
            "tags": []
          },
          "execution_count": 7
        }
      ]
    },
    {
      "cell_type": "code",
      "metadata": {
        "id": "yqSsnpqYBi_j"
      },
      "source": [
        "X = iris.drop('species',axis=1)\n",
        "y = iris['species']"
      ],
      "execution_count": null,
      "outputs": []
    },
    {
      "cell_type": "code",
      "metadata": {
        "colab": {
          "base_uri": "https://localhost:8080/"
        },
        "id": "NDi8ssnZBi_k",
        "outputId": "6f34045b-0fda-4673-9a7b-b58510e16b20"
      },
      "source": [
        "iris['species'].unique()"
      ],
      "execution_count": null,
      "outputs": [
        {
          "output_type": "execute_result",
          "data": {
            "text/plain": [
              "array(['setosa', 'versicolor', 'virginica'], dtype=object)"
            ]
          },
          "metadata": {
            "tags": []
          },
          "execution_count": 9
        }
      ]
    },
    {
      "cell_type": "code",
      "metadata": {
        "id": "Tp_hrxtkBi_l"
      },
      "source": [
        "# Lots of ways to one hot encode\n",
        "# https://stackoverflow.com/questions/47573293/unable-to-transform-string-column-to-categorical-matrix-using-keras-and-sklearn\n",
        "# https://stackoverflow.com/questions/35107559/one-hot-encoding-of-string-categorical-features"
      ],
      "execution_count": null,
      "outputs": []
    },
    {
      "cell_type": "code",
      "metadata": {
        "id": "0ZibsYYNBi_m"
      },
      "source": [
        "from sklearn.preprocessing import LabelBinarizer\n",
        "encoder = LabelBinarizer()\n",
        "y = encoder.fit_transform(y)"
      ],
      "execution_count": null,
      "outputs": []
    },
    {
      "cell_type": "code",
      "metadata": {
        "id": "HJTeGnZ3Bi_n"
      },
      "source": [
        "from sklearn.model_selection import train_test_split\n",
        "from sklearn.preprocessing import MinMaxScaler"
      ],
      "execution_count": null,
      "outputs": []
    },
    {
      "cell_type": "code",
      "metadata": {
        "id": "Rr0vXUtNBi_n"
      },
      "source": [
        "X_train, X_test, y_train, y_test = train_test_split(X, y, test_size=0.2, random_state=101)"
      ],
      "execution_count": null,
      "outputs": []
    },
    {
      "cell_type": "markdown",
      "metadata": {
        "id": "VbsQ5uOKBi_o"
      },
      "source": [
        "### Scaling"
      ]
    },
    {
      "cell_type": "code",
      "metadata": {
        "id": "bsWKg5tRBi_o"
      },
      "source": [
        "scaler = MinMaxScaler()"
      ],
      "execution_count": null,
      "outputs": []
    },
    {
      "cell_type": "code",
      "metadata": {
        "colab": {
          "base_uri": "https://localhost:8080/"
        },
        "id": "A60g6MNBBi_q",
        "outputId": "7304e4ac-f0b3-41b5-984e-1c9e758c409b"
      },
      "source": [
        "scaler.fit(X_train)"
      ],
      "execution_count": null,
      "outputs": [
        {
          "output_type": "execute_result",
          "data": {
            "text/plain": [
              "MinMaxScaler(copy=True, feature_range=(0, 1))"
            ]
          },
          "metadata": {
            "tags": []
          },
          "execution_count": 15
        }
      ]
    },
    {
      "cell_type": "code",
      "metadata": {
        "id": "zGdDto1FBi_r"
      },
      "source": [
        "scaled_X_train = scaler.transform(X_train)"
      ],
      "execution_count": null,
      "outputs": []
    },
    {
      "cell_type": "code",
      "metadata": {
        "id": "rheHDLwvBi_s"
      },
      "source": [
        "scaled_X_test = scaler.transform(X_test)"
      ],
      "execution_count": null,
      "outputs": []
    },
    {
      "cell_type": "markdown",
      "metadata": {
        "id": "UrrCsqcJBi_s"
      },
      "source": [
        "## Model\n",
        "\n",
        "\n",
        "### Creating the Model"
      ]
    },
    {
      "cell_type": "code",
      "metadata": {
        "id": "OQEMemchBi_t"
      },
      "source": [
        "from tensorflow.keras.models import Sequential\n",
        "from tensorflow.keras.layers import Dense"
      ],
      "execution_count": null,
      "outputs": []
    },
    {
      "cell_type": "code",
      "metadata": {
        "id": "-pWcJ1MkBi_u"
      },
      "source": [
        "model = Sequential()\n",
        "model.add(Dense(units=4,activation='relu',input_shape=[4,]))\n",
        "\n",
        "# Last layer for multi-class classification of 3 species\n",
        "model.add(Dense(units=3,activation='softmax'))\n",
        "\n",
        "model.compile(optimizer='adam',\n",
        "              loss='categorical_crossentropy',metrics=['accuracy'])"
      ],
      "execution_count": null,
      "outputs": []
    },
    {
      "cell_type": "markdown",
      "metadata": {
        "id": "c4qXmLOHBi_u"
      },
      "source": [
        "## Model Training"
      ]
    },
    {
      "cell_type": "code",
      "metadata": {
        "id": "FAe0T169Bi_v"
      },
      "source": [
        "from tensorflow.keras.callbacks import EarlyStopping"
      ],
      "execution_count": null,
      "outputs": []
    },
    {
      "cell_type": "code",
      "metadata": {
        "id": "ebvhstZyBi_v"
      },
      "source": [
        "early_stop = EarlyStopping(patience=10)"
      ],
      "execution_count": null,
      "outputs": []
    },
    {
      "cell_type": "code",
      "metadata": {
        "colab": {
          "base_uri": "https://localhost:8080/"
        },
        "id": "RUsovDbzBi_w",
        "outputId": "c9a74bcf-d61b-47af-904c-1df063b809c2"
      },
      "source": [
        "model.fit(x=scaled_X_train, \n",
        "          y=y_train, \n",
        "          epochs=300,\n",
        "          validation_data=(scaled_X_test, y_test), verbose=1 ,callbacks=[early_stop]         )"
      ],
      "execution_count": null,
      "outputs": [
        {
          "output_type": "stream",
          "text": [
            "Epoch 1/300\n",
            "4/4 [==============================] - 1s 172ms/step - loss: 1.1957 - accuracy: 0.3398 - val_loss: 1.1809 - val_accuracy: 0.4000\n",
            "Epoch 2/300\n",
            "4/4 [==============================] - 0s 21ms/step - loss: 1.1867 - accuracy: 0.3148 - val_loss: 1.1738 - val_accuracy: 0.4000\n",
            "Epoch 3/300\n",
            "4/4 [==============================] - 0s 19ms/step - loss: 1.1789 - accuracy: 0.3060 - val_loss: 1.1668 - val_accuracy: 0.4000\n",
            "Epoch 4/300\n",
            "4/4 [==============================] - 0s 23ms/step - loss: 1.1416 - accuracy: 0.3519 - val_loss: 1.1603 - val_accuracy: 0.4000\n",
            "Epoch 5/300\n",
            "4/4 [==============================] - 0s 26ms/step - loss: 1.1548 - accuracy: 0.3258 - val_loss: 1.1541 - val_accuracy: 0.4000\n",
            "Epoch 6/300\n",
            "4/4 [==============================] - 0s 21ms/step - loss: 1.1345 - accuracy: 0.3165 - val_loss: 1.1482 - val_accuracy: 0.4000\n",
            "Epoch 7/300\n",
            "4/4 [==============================] - 0s 22ms/step - loss: 1.1573 - accuracy: 0.2706 - val_loss: 1.1424 - val_accuracy: 0.4000\n",
            "Epoch 8/300\n",
            "4/4 [==============================] - 0s 22ms/step - loss: 1.1226 - accuracy: 0.3321 - val_loss: 1.1370 - val_accuracy: 0.4000\n",
            "Epoch 9/300\n",
            "4/4 [==============================] - 0s 21ms/step - loss: 1.1238 - accuracy: 0.3237 - val_loss: 1.1316 - val_accuracy: 0.4000\n",
            "Epoch 10/300\n",
            "4/4 [==============================] - 0s 20ms/step - loss: 1.1241 - accuracy: 0.3321 - val_loss: 1.1262 - val_accuracy: 0.4000\n",
            "Epoch 11/300\n",
            "4/4 [==============================] - 0s 18ms/step - loss: 1.1214 - accuracy: 0.2987 - val_loss: 1.1209 - val_accuracy: 0.4333\n",
            "Epoch 12/300\n",
            "4/4 [==============================] - 0s 19ms/step - loss: 1.1072 - accuracy: 0.3154 - val_loss: 1.1159 - val_accuracy: 0.4333\n",
            "Epoch 13/300\n",
            "4/4 [==============================] - 0s 22ms/step - loss: 1.1153 - accuracy: 0.2717 - val_loss: 1.1107 - val_accuracy: 0.4333\n",
            "Epoch 14/300\n",
            "4/4 [==============================] - 0s 22ms/step - loss: 1.1074 - accuracy: 0.3040 - val_loss: 1.1058 - val_accuracy: 0.4333\n",
            "Epoch 15/300\n",
            "4/4 [==============================] - 0s 20ms/step - loss: 1.0996 - accuracy: 0.3165 - val_loss: 1.1009 - val_accuracy: 0.4333\n",
            "Epoch 16/300\n",
            "4/4 [==============================] - 0s 23ms/step - loss: 1.0846 - accuracy: 0.3133 - val_loss: 1.0962 - val_accuracy: 0.4333\n",
            "Epoch 17/300\n",
            "4/4 [==============================] - 0s 21ms/step - loss: 1.0808 - accuracy: 0.3642 - val_loss: 1.0914 - val_accuracy: 0.4333\n",
            "Epoch 18/300\n",
            "4/4 [==============================] - 0s 24ms/step - loss: 1.0668 - accuracy: 0.3352 - val_loss: 1.0867 - val_accuracy: 0.4333\n",
            "Epoch 19/300\n",
            "4/4 [==============================] - 0s 24ms/step - loss: 1.0852 - accuracy: 0.3198 - val_loss: 1.0819 - val_accuracy: 0.4333\n",
            "Epoch 20/300\n",
            "4/4 [==============================] - 0s 20ms/step - loss: 1.0786 - accuracy: 0.3483 - val_loss: 1.0772 - val_accuracy: 0.4333\n",
            "Epoch 21/300\n",
            "4/4 [==============================] - 0s 17ms/step - loss: 1.0653 - accuracy: 0.3356 - val_loss: 1.0726 - val_accuracy: 0.4333\n",
            "Epoch 22/300\n",
            "4/4 [==============================] - 0s 21ms/step - loss: 1.0543 - accuracy: 0.3754 - val_loss: 1.0681 - val_accuracy: 0.4667\n",
            "Epoch 23/300\n",
            "4/4 [==============================] - 0s 19ms/step - loss: 1.0548 - accuracy: 0.3465 - val_loss: 1.0635 - val_accuracy: 0.4667\n",
            "Epoch 24/300\n",
            "4/4 [==============================] - 0s 19ms/step - loss: 1.0532 - accuracy: 0.3417 - val_loss: 1.0590 - val_accuracy: 0.4667\n",
            "Epoch 25/300\n",
            "4/4 [==============================] - 0s 17ms/step - loss: 1.0363 - accuracy: 0.4010 - val_loss: 1.0547 - val_accuracy: 0.4667\n",
            "Epoch 26/300\n",
            "4/4 [==============================] - 0s 18ms/step - loss: 1.0517 - accuracy: 0.3769 - val_loss: 1.0502 - val_accuracy: 0.4667\n",
            "Epoch 27/300\n",
            "4/4 [==============================] - 0s 19ms/step - loss: 1.0316 - accuracy: 0.4219 - val_loss: 1.0461 - val_accuracy: 0.4333\n",
            "Epoch 28/300\n",
            "4/4 [==============================] - 0s 20ms/step - loss: 1.0332 - accuracy: 0.4400 - val_loss: 1.0418 - val_accuracy: 0.4667\n",
            "Epoch 29/300\n",
            "4/4 [==============================] - 0s 18ms/step - loss: 1.0200 - accuracy: 0.4319 - val_loss: 1.0377 - val_accuracy: 0.5000\n",
            "Epoch 30/300\n",
            "4/4 [==============================] - 0s 18ms/step - loss: 1.0118 - accuracy: 0.4833 - val_loss: 1.0336 - val_accuracy: 0.4667\n",
            "Epoch 31/300\n",
            "4/4 [==============================] - 0s 20ms/step - loss: 1.0142 - accuracy: 0.5062 - val_loss: 1.0294 - val_accuracy: 0.4667\n",
            "Epoch 32/300\n",
            "4/4 [==============================] - 0s 18ms/step - loss: 1.0133 - accuracy: 0.4817 - val_loss: 1.0251 - val_accuracy: 0.4333\n",
            "Epoch 33/300\n",
            "4/4 [==============================] - 0s 18ms/step - loss: 1.0068 - accuracy: 0.4596 - val_loss: 1.0210 - val_accuracy: 0.4333\n",
            "Epoch 34/300\n",
            "4/4 [==============================] - 0s 18ms/step - loss: 1.0043 - accuracy: 0.4248 - val_loss: 1.0167 - val_accuracy: 0.5000\n",
            "Epoch 35/300\n",
            "4/4 [==============================] - 0s 16ms/step - loss: 1.0017 - accuracy: 0.4398 - val_loss: 1.0125 - val_accuracy: 0.4667\n",
            "Epoch 36/300\n",
            "4/4 [==============================] - 0s 18ms/step - loss: 0.9937 - accuracy: 0.4848 - val_loss: 1.0084 - val_accuracy: 0.4333\n",
            "Epoch 37/300\n",
            "4/4 [==============================] - 0s 19ms/step - loss: 0.9891 - accuracy: 0.4742 - val_loss: 1.0045 - val_accuracy: 0.4000\n",
            "Epoch 38/300\n",
            "4/4 [==============================] - 0s 24ms/step - loss: 0.9803 - accuracy: 0.5325 - val_loss: 1.0008 - val_accuracy: 0.4333\n",
            "Epoch 39/300\n",
            "4/4 [==============================] - 0s 21ms/step - loss: 0.9785 - accuracy: 0.5354 - val_loss: 0.9970 - val_accuracy: 0.4333\n",
            "Epoch 40/300\n",
            "4/4 [==============================] - 0s 20ms/step - loss: 0.9722 - accuracy: 0.6077 - val_loss: 0.9933 - val_accuracy: 0.4333\n",
            "Epoch 41/300\n",
            "4/4 [==============================] - 0s 18ms/step - loss: 0.9701 - accuracy: 0.6017 - val_loss: 0.9895 - val_accuracy: 0.4667\n",
            "Epoch 42/300\n",
            "4/4 [==============================] - 0s 17ms/step - loss: 0.9689 - accuracy: 0.6052 - val_loss: 0.9858 - val_accuracy: 0.5333\n",
            "Epoch 43/300\n",
            "4/4 [==============================] - 0s 17ms/step - loss: 0.9586 - accuracy: 0.6325 - val_loss: 0.9823 - val_accuracy: 0.5333\n",
            "Epoch 44/300\n",
            "4/4 [==============================] - 0s 18ms/step - loss: 0.9574 - accuracy: 0.6673 - val_loss: 0.9788 - val_accuracy: 0.5333\n",
            "Epoch 45/300\n",
            "4/4 [==============================] - 0s 20ms/step - loss: 0.9488 - accuracy: 0.6946 - val_loss: 0.9754 - val_accuracy: 0.5333\n",
            "Epoch 46/300\n",
            "4/4 [==============================] - 0s 17ms/step - loss: 0.9498 - accuracy: 0.6373 - val_loss: 0.9718 - val_accuracy: 0.5667\n",
            "Epoch 47/300\n",
            "4/4 [==============================] - 0s 17ms/step - loss: 0.9414 - accuracy: 0.6592 - val_loss: 0.9683 - val_accuracy: 0.6000\n",
            "Epoch 48/300\n",
            "4/4 [==============================] - 0s 17ms/step - loss: 0.9417 - accuracy: 0.6654 - val_loss: 0.9648 - val_accuracy: 0.6000\n",
            "Epoch 49/300\n",
            "4/4 [==============================] - 0s 19ms/step - loss: 0.9390 - accuracy: 0.6467 - val_loss: 0.9613 - val_accuracy: 0.6000\n",
            "Epoch 50/300\n",
            "4/4 [==============================] - 0s 19ms/step - loss: 0.9373 - accuracy: 0.6177 - val_loss: 0.9578 - val_accuracy: 0.6000\n",
            "Epoch 51/300\n",
            "4/4 [==============================] - 0s 19ms/step - loss: 0.9302 - accuracy: 0.6856 - val_loss: 0.9543 - val_accuracy: 0.6000\n",
            "Epoch 52/300\n",
            "4/4 [==============================] - 0s 24ms/step - loss: 0.9242 - accuracy: 0.6879 - val_loss: 0.9507 - val_accuracy: 0.6000\n",
            "Epoch 53/300\n",
            "4/4 [==============================] - 0s 19ms/step - loss: 0.9207 - accuracy: 0.6598 - val_loss: 0.9471 - val_accuracy: 0.6000\n",
            "Epoch 54/300\n",
            "4/4 [==============================] - 0s 18ms/step - loss: 0.9158 - accuracy: 0.6837 - val_loss: 0.9434 - val_accuracy: 0.6000\n",
            "Epoch 55/300\n",
            "4/4 [==============================] - 0s 19ms/step - loss: 0.9043 - accuracy: 0.7129 - val_loss: 0.9398 - val_accuracy: 0.6000\n",
            "Epoch 56/300\n",
            "4/4 [==============================] - 0s 16ms/step - loss: 0.9072 - accuracy: 0.6733 - val_loss: 0.9360 - val_accuracy: 0.6000\n",
            "Epoch 57/300\n",
            "4/4 [==============================] - 0s 16ms/step - loss: 0.9029 - accuracy: 0.6910 - val_loss: 0.9321 - val_accuracy: 0.6000\n",
            "Epoch 58/300\n",
            "4/4 [==============================] - 0s 16ms/step - loss: 0.8972 - accuracy: 0.6619 - val_loss: 0.9283 - val_accuracy: 0.6000\n",
            "Epoch 59/300\n",
            "4/4 [==============================] - 0s 17ms/step - loss: 0.8886 - accuracy: 0.7056 - val_loss: 0.9245 - val_accuracy: 0.6000\n",
            "Epoch 60/300\n",
            "4/4 [==============================] - 0s 19ms/step - loss: 0.9032 - accuracy: 0.6192 - val_loss: 0.9206 - val_accuracy: 0.6000\n",
            "Epoch 61/300\n",
            "4/4 [==============================] - 0s 17ms/step - loss: 0.8925 - accuracy: 0.6515 - val_loss: 0.9168 - val_accuracy: 0.6000\n",
            "Epoch 62/300\n",
            "4/4 [==============================] - 0s 17ms/step - loss: 0.8868 - accuracy: 0.6608 - val_loss: 0.9131 - val_accuracy: 0.6000\n",
            "Epoch 63/300\n",
            "4/4 [==============================] - 0s 19ms/step - loss: 0.8815 - accuracy: 0.6712 - val_loss: 0.9093 - val_accuracy: 0.6000\n",
            "Epoch 64/300\n",
            "4/4 [==============================] - 0s 16ms/step - loss: 0.8739 - accuracy: 0.6681 - val_loss: 0.9055 - val_accuracy: 0.6000\n",
            "Epoch 65/300\n",
            "4/4 [==============================] - 0s 18ms/step - loss: 0.8614 - accuracy: 0.7098 - val_loss: 0.9018 - val_accuracy: 0.6000\n",
            "Epoch 66/300\n",
            "4/4 [==============================] - 0s 19ms/step - loss: 0.8635 - accuracy: 0.6942 - val_loss: 0.8979 - val_accuracy: 0.6000\n",
            "Epoch 67/300\n",
            "4/4 [==============================] - 0s 18ms/step - loss: 0.8548 - accuracy: 0.6994 - val_loss: 0.8941 - val_accuracy: 0.6000\n",
            "Epoch 68/300\n",
            "4/4 [==============================] - 0s 19ms/step - loss: 0.8492 - accuracy: 0.7035 - val_loss: 0.8903 - val_accuracy: 0.6000\n",
            "Epoch 69/300\n",
            "4/4 [==============================] - 0s 21ms/step - loss: 0.8532 - accuracy: 0.6890 - val_loss: 0.8866 - val_accuracy: 0.6000\n",
            "Epoch 70/300\n",
            "4/4 [==============================] - 0s 18ms/step - loss: 0.8431 - accuracy: 0.7035 - val_loss: 0.8827 - val_accuracy: 0.6000\n",
            "Epoch 71/300\n",
            "4/4 [==============================] - 0s 21ms/step - loss: 0.8404 - accuracy: 0.6900 - val_loss: 0.8789 - val_accuracy: 0.6000\n",
            "Epoch 72/300\n",
            "4/4 [==============================] - 0s 18ms/step - loss: 0.8388 - accuracy: 0.6817 - val_loss: 0.8750 - val_accuracy: 0.6000\n",
            "Epoch 73/300\n",
            "4/4 [==============================] - 0s 19ms/step - loss: 0.8227 - accuracy: 0.7285 - val_loss: 0.8715 - val_accuracy: 0.6000\n",
            "Epoch 74/300\n",
            "4/4 [==============================] - 0s 20ms/step - loss: 0.8397 - accuracy: 0.6619 - val_loss: 0.8678 - val_accuracy: 0.6000\n",
            "Epoch 75/300\n",
            "4/4 [==============================] - 0s 16ms/step - loss: 0.8328 - accuracy: 0.6598 - val_loss: 0.8642 - val_accuracy: 0.6000\n",
            "Epoch 76/300\n",
            "4/4 [==============================] - 0s 19ms/step - loss: 0.8211 - accuracy: 0.6765 - val_loss: 0.8604 - val_accuracy: 0.6000\n",
            "Epoch 77/300\n",
            "4/4 [==============================] - 0s 21ms/step - loss: 0.8212 - accuracy: 0.6712 - val_loss: 0.8566 - val_accuracy: 0.6000\n",
            "Epoch 78/300\n",
            "4/4 [==============================] - 0s 17ms/step - loss: 0.8118 - accuracy: 0.6952 - val_loss: 0.8528 - val_accuracy: 0.6000\n",
            "Epoch 79/300\n",
            "4/4 [==============================] - 0s 18ms/step - loss: 0.8191 - accuracy: 0.6629 - val_loss: 0.8487 - val_accuracy: 0.6000\n",
            "Epoch 80/300\n",
            "4/4 [==============================] - 0s 19ms/step - loss: 0.8033 - accuracy: 0.6827 - val_loss: 0.8445 - val_accuracy: 0.6000\n",
            "Epoch 81/300\n",
            "4/4 [==============================] - 0s 18ms/step - loss: 0.7771 - accuracy: 0.7379 - val_loss: 0.8407 - val_accuracy: 0.6000\n",
            "Epoch 82/300\n",
            "4/4 [==============================] - 0s 16ms/step - loss: 0.8031 - accuracy: 0.6442 - val_loss: 0.8365 - val_accuracy: 0.6000\n",
            "Epoch 83/300\n",
            "4/4 [==============================] - 0s 21ms/step - loss: 0.7836 - accuracy: 0.7129 - val_loss: 0.8326 - val_accuracy: 0.6000\n",
            "Epoch 84/300\n",
            "4/4 [==============================] - 0s 20ms/step - loss: 0.7825 - accuracy: 0.6962 - val_loss: 0.8285 - val_accuracy: 0.6000\n",
            "Epoch 85/300\n",
            "4/4 [==============================] - 0s 19ms/step - loss: 0.7865 - accuracy: 0.6660 - val_loss: 0.8244 - val_accuracy: 0.6000\n",
            "Epoch 86/300\n",
            "4/4 [==============================] - 0s 18ms/step - loss: 0.7730 - accuracy: 0.7129 - val_loss: 0.8205 - val_accuracy: 0.6000\n",
            "Epoch 87/300\n",
            "4/4 [==============================] - 0s 18ms/step - loss: 0.7584 - accuracy: 0.7150 - val_loss: 0.8167 - val_accuracy: 0.6000\n",
            "Epoch 88/300\n",
            "4/4 [==============================] - 0s 18ms/step - loss: 0.7548 - accuracy: 0.7077 - val_loss: 0.8126 - val_accuracy: 0.6000\n",
            "Epoch 89/300\n",
            "4/4 [==============================] - 0s 18ms/step - loss: 0.7604 - accuracy: 0.6879 - val_loss: 0.8086 - val_accuracy: 0.6000\n",
            "Epoch 90/300\n",
            "4/4 [==============================] - 0s 18ms/step - loss: 0.7573 - accuracy: 0.6900 - val_loss: 0.8046 - val_accuracy: 0.6000\n",
            "Epoch 91/300\n",
            "4/4 [==============================] - 0s 19ms/step - loss: 0.7672 - accuracy: 0.6587 - val_loss: 0.8005 - val_accuracy: 0.6000\n",
            "Epoch 92/300\n",
            "4/4 [==============================] - 0s 18ms/step - loss: 0.7666 - accuracy: 0.6473 - val_loss: 0.7965 - val_accuracy: 0.6000\n",
            "Epoch 93/300\n",
            "4/4 [==============================] - 0s 20ms/step - loss: 0.7475 - accuracy: 0.6660 - val_loss: 0.7927 - val_accuracy: 0.6000\n",
            "Epoch 94/300\n",
            "4/4 [==============================] - 0s 18ms/step - loss: 0.7328 - accuracy: 0.7129 - val_loss: 0.7892 - val_accuracy: 0.6000\n",
            "Epoch 95/300\n",
            "4/4 [==============================] - 0s 17ms/step - loss: 0.7389 - accuracy: 0.6650 - val_loss: 0.7852 - val_accuracy: 0.6000\n",
            "Epoch 96/300\n",
            "4/4 [==============================] - 0s 19ms/step - loss: 0.7323 - accuracy: 0.6942 - val_loss: 0.7815 - val_accuracy: 0.6000\n",
            "Epoch 97/300\n",
            "4/4 [==============================] - 0s 19ms/step - loss: 0.7267 - accuracy: 0.7067 - val_loss: 0.7778 - val_accuracy: 0.6000\n",
            "Epoch 98/300\n",
            "4/4 [==============================] - 0s 21ms/step - loss: 0.7116 - accuracy: 0.7181 - val_loss: 0.7739 - val_accuracy: 0.6000\n",
            "Epoch 99/300\n",
            "4/4 [==============================] - 0s 20ms/step - loss: 0.7374 - accuracy: 0.6525 - val_loss: 0.7699 - val_accuracy: 0.6000\n",
            "Epoch 100/300\n",
            "4/4 [==============================] - 0s 21ms/step - loss: 0.6996 - accuracy: 0.7306 - val_loss: 0.7662 - val_accuracy: 0.6000\n",
            "Epoch 101/300\n",
            "4/4 [==============================] - 0s 20ms/step - loss: 0.7198 - accuracy: 0.6567 - val_loss: 0.7621 - val_accuracy: 0.6000\n",
            "Epoch 102/300\n",
            "4/4 [==============================] - 0s 20ms/step - loss: 0.7237 - accuracy: 0.6494 - val_loss: 0.7583 - val_accuracy: 0.6000\n",
            "Epoch 103/300\n",
            "4/4 [==============================] - 0s 21ms/step - loss: 0.7180 - accuracy: 0.6577 - val_loss: 0.7548 - val_accuracy: 0.6000\n",
            "Epoch 104/300\n",
            "4/4 [==============================] - 0s 17ms/step - loss: 0.6889 - accuracy: 0.7181 - val_loss: 0.7514 - val_accuracy: 0.6000\n",
            "Epoch 105/300\n",
            "4/4 [==============================] - 0s 17ms/step - loss: 0.6986 - accuracy: 0.6650 - val_loss: 0.7478 - val_accuracy: 0.6000\n",
            "Epoch 106/300\n",
            "4/4 [==============================] - 0s 17ms/step - loss: 0.6979 - accuracy: 0.6785 - val_loss: 0.7443 - val_accuracy: 0.6000\n",
            "Epoch 107/300\n",
            "4/4 [==============================] - 0s 17ms/step - loss: 0.6874 - accuracy: 0.6900 - val_loss: 0.7408 - val_accuracy: 0.6000\n",
            "Epoch 108/300\n",
            "4/4 [==============================] - 0s 17ms/step - loss: 0.6807 - accuracy: 0.6921 - val_loss: 0.7374 - val_accuracy: 0.6000\n",
            "Epoch 109/300\n",
            "4/4 [==============================] - 0s 22ms/step - loss: 0.7060 - accuracy: 0.6431 - val_loss: 0.7337 - val_accuracy: 0.6000\n",
            "Epoch 110/300\n",
            "4/4 [==============================] - 0s 21ms/step - loss: 0.6809 - accuracy: 0.6806 - val_loss: 0.7303 - val_accuracy: 0.6333\n",
            "Epoch 111/300\n",
            "4/4 [==============================] - 0s 20ms/step - loss: 0.6797 - accuracy: 0.6619 - val_loss: 0.7268 - val_accuracy: 0.6333\n",
            "Epoch 112/300\n",
            "4/4 [==============================] - 0s 18ms/step - loss: 0.6554 - accuracy: 0.7202 - val_loss: 0.7237 - val_accuracy: 0.6333\n",
            "Epoch 113/300\n",
            "4/4 [==============================] - 0s 20ms/step - loss: 0.6646 - accuracy: 0.6754 - val_loss: 0.7200 - val_accuracy: 0.6333\n",
            "Epoch 114/300\n",
            "4/4 [==============================] - 0s 17ms/step - loss: 0.6586 - accuracy: 0.7069 - val_loss: 0.7165 - val_accuracy: 0.6333\n",
            "Epoch 115/300\n",
            "4/4 [==============================] - 0s 18ms/step - loss: 0.6463 - accuracy: 0.6954 - val_loss: 0.7130 - val_accuracy: 0.6333\n",
            "Epoch 116/300\n",
            "4/4 [==============================] - 0s 20ms/step - loss: 0.6513 - accuracy: 0.7090 - val_loss: 0.7098 - val_accuracy: 0.6333\n",
            "Epoch 117/300\n",
            "4/4 [==============================] - 0s 19ms/step - loss: 0.6661 - accuracy: 0.6871 - val_loss: 0.7065 - val_accuracy: 0.6333\n",
            "Epoch 118/300\n",
            "4/4 [==============================] - 0s 19ms/step - loss: 0.6409 - accuracy: 0.7048 - val_loss: 0.7033 - val_accuracy: 0.6333\n",
            "Epoch 119/300\n",
            "4/4 [==============================] - 0s 18ms/step - loss: 0.6389 - accuracy: 0.7038 - val_loss: 0.7000 - val_accuracy: 0.6333\n",
            "Epoch 120/300\n",
            "4/4 [==============================] - 0s 17ms/step - loss: 0.6354 - accuracy: 0.7027 - val_loss: 0.6967 - val_accuracy: 0.6333\n",
            "Epoch 121/300\n",
            "4/4 [==============================] - 0s 19ms/step - loss: 0.6390 - accuracy: 0.6996 - val_loss: 0.6934 - val_accuracy: 0.6333\n",
            "Epoch 122/300\n",
            "4/4 [==============================] - 0s 21ms/step - loss: 0.6516 - accuracy: 0.6683 - val_loss: 0.6901 - val_accuracy: 0.6333\n",
            "Epoch 123/300\n",
            "4/4 [==============================] - 0s 21ms/step - loss: 0.6341 - accuracy: 0.6821 - val_loss: 0.6868 - val_accuracy: 0.6333\n",
            "Epoch 124/300\n",
            "4/4 [==============================] - 0s 22ms/step - loss: 0.6421 - accuracy: 0.6790 - val_loss: 0.6835 - val_accuracy: 0.6333\n",
            "Epoch 125/300\n",
            "4/4 [==============================] - 0s 17ms/step - loss: 0.6273 - accuracy: 0.6800 - val_loss: 0.6802 - val_accuracy: 0.6333\n",
            "Epoch 126/300\n",
            "4/4 [==============================] - 0s 20ms/step - loss: 0.6210 - accuracy: 0.7092 - val_loss: 0.6772 - val_accuracy: 0.6333\n",
            "Epoch 127/300\n",
            "4/4 [==============================] - 0s 20ms/step - loss: 0.6134 - accuracy: 0.7154 - val_loss: 0.6742 - val_accuracy: 0.6333\n",
            "Epoch 128/300\n",
            "4/4 [==============================] - 0s 18ms/step - loss: 0.6388 - accuracy: 0.6571 - val_loss: 0.6709 - val_accuracy: 0.6333\n",
            "Epoch 129/300\n",
            "4/4 [==============================] - 0s 18ms/step - loss: 0.6223 - accuracy: 0.7050 - val_loss: 0.6679 - val_accuracy: 0.6333\n",
            "Epoch 130/300\n",
            "4/4 [==============================] - 0s 17ms/step - loss: 0.6195 - accuracy: 0.6998 - val_loss: 0.6650 - val_accuracy: 0.6333\n",
            "Epoch 131/300\n",
            "4/4 [==============================] - 0s 22ms/step - loss: 0.6210 - accuracy: 0.6967 - val_loss: 0.6621 - val_accuracy: 0.6333\n",
            "Epoch 132/300\n",
            "4/4 [==============================] - 0s 17ms/step - loss: 0.6253 - accuracy: 0.6708 - val_loss: 0.6590 - val_accuracy: 0.6333\n",
            "Epoch 133/300\n",
            "4/4 [==============================] - 0s 16ms/step - loss: 0.5803 - accuracy: 0.7208 - val_loss: 0.6561 - val_accuracy: 0.6333\n",
            "Epoch 134/300\n",
            "4/4 [==============================] - 0s 19ms/step - loss: 0.5868 - accuracy: 0.7167 - val_loss: 0.6533 - val_accuracy: 0.6333\n",
            "Epoch 135/300\n",
            "4/4 [==============================] - 0s 17ms/step - loss: 0.5826 - accuracy: 0.7125 - val_loss: 0.6505 - val_accuracy: 0.6333\n",
            "Epoch 136/300\n",
            "4/4 [==============================] - 0s 18ms/step - loss: 0.5990 - accuracy: 0.6833 - val_loss: 0.6476 - val_accuracy: 0.6667\n",
            "Epoch 137/300\n",
            "4/4 [==============================] - 0s 19ms/step - loss: 0.5950 - accuracy: 0.7042 - val_loss: 0.6445 - val_accuracy: 0.6667\n",
            "Epoch 138/300\n",
            "4/4 [==============================] - 0s 19ms/step - loss: 0.5836 - accuracy: 0.7106 - val_loss: 0.6416 - val_accuracy: 0.6667\n",
            "Epoch 139/300\n",
            "4/4 [==============================] - 0s 20ms/step - loss: 0.5733 - accuracy: 0.7463 - val_loss: 0.6388 - val_accuracy: 0.6667\n",
            "Epoch 140/300\n",
            "4/4 [==============================] - 0s 19ms/step - loss: 0.5661 - accuracy: 0.7527 - val_loss: 0.6359 - val_accuracy: 0.6667\n",
            "Epoch 141/300\n",
            "4/4 [==============================] - 0s 20ms/step - loss: 0.5926 - accuracy: 0.7110 - val_loss: 0.6331 - val_accuracy: 0.6667\n",
            "Epoch 142/300\n",
            "4/4 [==============================] - 0s 20ms/step - loss: 0.6200 - accuracy: 0.6663 - val_loss: 0.6302 - val_accuracy: 0.6667\n",
            "Epoch 143/300\n",
            "4/4 [==============================] - 0s 18ms/step - loss: 0.5665 - accuracy: 0.7340 - val_loss: 0.6276 - val_accuracy: 0.6667\n",
            "Epoch 144/300\n",
            "4/4 [==============================] - 0s 21ms/step - loss: 0.5630 - accuracy: 0.7558 - val_loss: 0.6251 - val_accuracy: 0.6667\n",
            "Epoch 145/300\n",
            "4/4 [==============================] - 0s 17ms/step - loss: 0.5467 - accuracy: 0.7883 - val_loss: 0.6226 - val_accuracy: 0.6667\n",
            "Epoch 146/300\n",
            "4/4 [==============================] - 0s 20ms/step - loss: 0.5948 - accuracy: 0.7146 - val_loss: 0.6196 - val_accuracy: 0.6667\n",
            "Epoch 147/300\n",
            "4/4 [==============================] - 0s 18ms/step - loss: 0.5542 - accuracy: 0.7844 - val_loss: 0.6170 - val_accuracy: 0.6667\n",
            "Epoch 148/300\n",
            "4/4 [==============================] - 0s 18ms/step - loss: 0.5354 - accuracy: 0.7702 - val_loss: 0.6142 - val_accuracy: 0.7000\n",
            "Epoch 149/300\n",
            "4/4 [==============================] - 0s 18ms/step - loss: 0.5524 - accuracy: 0.7671 - val_loss: 0.6114 - val_accuracy: 0.7000\n",
            "Epoch 150/300\n",
            "4/4 [==============================] - 0s 19ms/step - loss: 0.5570 - accuracy: 0.7577 - val_loss: 0.6087 - val_accuracy: 0.7667\n",
            "Epoch 151/300\n",
            "4/4 [==============================] - 0s 17ms/step - loss: 0.5380 - accuracy: 0.7685 - val_loss: 0.6060 - val_accuracy: 0.7667\n",
            "Epoch 152/300\n",
            "4/4 [==============================] - 0s 18ms/step - loss: 0.5547 - accuracy: 0.7948 - val_loss: 0.6035 - val_accuracy: 0.7667\n",
            "Epoch 153/300\n",
            "4/4 [==============================] - 0s 17ms/step - loss: 0.5461 - accuracy: 0.7958 - val_loss: 0.6011 - val_accuracy: 0.8000\n",
            "Epoch 154/300\n",
            "4/4 [==============================] - 0s 18ms/step - loss: 0.5513 - accuracy: 0.7760 - val_loss: 0.5985 - val_accuracy: 0.8000\n",
            "Epoch 155/300\n",
            "4/4 [==============================] - 0s 19ms/step - loss: 0.5591 - accuracy: 0.7448 - val_loss: 0.5960 - val_accuracy: 0.8000\n",
            "Epoch 156/300\n",
            "4/4 [==============================] - 0s 20ms/step - loss: 0.5302 - accuracy: 0.8044 - val_loss: 0.5937 - val_accuracy: 0.8000\n",
            "Epoch 157/300\n",
            "4/4 [==============================] - 0s 17ms/step - loss: 0.5402 - accuracy: 0.8158 - val_loss: 0.5913 - val_accuracy: 0.8000\n",
            "Epoch 158/300\n",
            "4/4 [==============================] - 0s 18ms/step - loss: 0.5491 - accuracy: 0.7908 - val_loss: 0.5889 - val_accuracy: 0.8000\n",
            "Epoch 159/300\n",
            "4/4 [==============================] - 0s 24ms/step - loss: 0.5403 - accuracy: 0.8129 - val_loss: 0.5865 - val_accuracy: 0.8000\n",
            "Epoch 160/300\n",
            "4/4 [==============================] - 0s 21ms/step - loss: 0.4968 - accuracy: 0.8442 - val_loss: 0.5841 - val_accuracy: 0.8000\n",
            "Epoch 161/300\n",
            "4/4 [==============================] - 0s 21ms/step - loss: 0.5283 - accuracy: 0.8223 - val_loss: 0.5817 - val_accuracy: 0.8000\n",
            "Epoch 162/300\n",
            "4/4 [==============================] - 0s 18ms/step - loss: 0.5365 - accuracy: 0.7775 - val_loss: 0.5792 - val_accuracy: 0.8000\n",
            "Epoch 163/300\n",
            "4/4 [==============================] - 0s 18ms/step - loss: 0.5336 - accuracy: 0.7858 - val_loss: 0.5769 - val_accuracy: 0.8000\n",
            "Epoch 164/300\n",
            "4/4 [==============================] - 0s 17ms/step - loss: 0.5168 - accuracy: 0.8233 - val_loss: 0.5747 - val_accuracy: 0.8000\n",
            "Epoch 165/300\n",
            "4/4 [==============================] - 0s 22ms/step - loss: 0.5335 - accuracy: 0.7858 - val_loss: 0.5724 - val_accuracy: 0.8000\n",
            "Epoch 166/300\n",
            "4/4 [==============================] - 0s 18ms/step - loss: 0.5069 - accuracy: 0.8337 - val_loss: 0.5703 - val_accuracy: 0.8000\n",
            "Epoch 167/300\n",
            "4/4 [==============================] - 0s 17ms/step - loss: 0.5060 - accuracy: 0.7994 - val_loss: 0.5679 - val_accuracy: 0.8000\n",
            "Epoch 168/300\n",
            "4/4 [==============================] - 0s 17ms/step - loss: 0.5319 - accuracy: 0.7694 - val_loss: 0.5656 - val_accuracy: 0.8000\n",
            "Epoch 169/300\n",
            "4/4 [==============================] - 0s 18ms/step - loss: 0.5043 - accuracy: 0.8373 - val_loss: 0.5634 - val_accuracy: 0.8000\n",
            "Epoch 170/300\n",
            "4/4 [==============================] - 0s 21ms/step - loss: 0.5215 - accuracy: 0.8362 - val_loss: 0.5611 - val_accuracy: 0.8000\n",
            "Epoch 171/300\n",
            "4/4 [==============================] - 0s 18ms/step - loss: 0.5053 - accuracy: 0.8227 - val_loss: 0.5589 - val_accuracy: 0.8000\n",
            "Epoch 172/300\n",
            "4/4 [==============================] - 0s 17ms/step - loss: 0.5011 - accuracy: 0.8008 - val_loss: 0.5566 - val_accuracy: 0.8000\n",
            "Epoch 173/300\n",
            "4/4 [==============================] - 0s 18ms/step - loss: 0.4887 - accuracy: 0.8458 - val_loss: 0.5544 - val_accuracy: 0.8000\n",
            "Epoch 174/300\n",
            "4/4 [==============================] - 0s 24ms/step - loss: 0.4803 - accuracy: 0.8552 - val_loss: 0.5523 - val_accuracy: 0.8000\n",
            "Epoch 175/300\n",
            "4/4 [==============================] - 0s 21ms/step - loss: 0.5016 - accuracy: 0.8115 - val_loss: 0.5503 - val_accuracy: 0.8000\n",
            "Epoch 176/300\n",
            "4/4 [==============================] - 0s 22ms/step - loss: 0.5258 - accuracy: 0.7948 - val_loss: 0.5480 - val_accuracy: 0.8000\n",
            "Epoch 177/300\n",
            "4/4 [==============================] - 0s 23ms/step - loss: 0.4967 - accuracy: 0.8167 - val_loss: 0.5461 - val_accuracy: 0.8000\n",
            "Epoch 178/300\n",
            "4/4 [==============================] - 0s 26ms/step - loss: 0.4954 - accuracy: 0.8242 - val_loss: 0.5441 - val_accuracy: 0.8000\n",
            "Epoch 179/300\n",
            "4/4 [==============================] - 0s 21ms/step - loss: 0.4976 - accuracy: 0.8356 - val_loss: 0.5421 - val_accuracy: 0.8000\n",
            "Epoch 180/300\n",
            "4/4 [==============================] - 0s 21ms/step - loss: 0.4862 - accuracy: 0.8450 - val_loss: 0.5401 - val_accuracy: 0.8000\n",
            "Epoch 181/300\n",
            "4/4 [==============================] - 0s 22ms/step - loss: 0.4825 - accuracy: 0.8408 - val_loss: 0.5380 - val_accuracy: 0.8000\n",
            "Epoch 182/300\n",
            "4/4 [==============================] - 0s 20ms/step - loss: 0.4883 - accuracy: 0.8200 - val_loss: 0.5359 - val_accuracy: 0.8000\n",
            "Epoch 183/300\n",
            "4/4 [==============================] - 0s 22ms/step - loss: 0.4710 - accuracy: 0.8325 - val_loss: 0.5338 - val_accuracy: 0.8000\n",
            "Epoch 184/300\n",
            "4/4 [==============================] - 0s 22ms/step - loss: 0.4665 - accuracy: 0.8648 - val_loss: 0.5319 - val_accuracy: 0.8000\n",
            "Epoch 185/300\n",
            "4/4 [==============================] - 0s 21ms/step - loss: 0.5072 - accuracy: 0.8190 - val_loss: 0.5299 - val_accuracy: 0.8000\n",
            "Epoch 186/300\n",
            "4/4 [==============================] - 0s 25ms/step - loss: 0.4866 - accuracy: 0.8356 - val_loss: 0.5281 - val_accuracy: 0.8000\n",
            "Epoch 187/300\n",
            "4/4 [==============================] - 0s 24ms/step - loss: 0.4762 - accuracy: 0.8367 - val_loss: 0.5262 - val_accuracy: 0.8000\n",
            "Epoch 188/300\n",
            "4/4 [==============================] - 0s 24ms/step - loss: 0.4764 - accuracy: 0.8450 - val_loss: 0.5244 - val_accuracy: 0.8000\n",
            "Epoch 189/300\n",
            "4/4 [==============================] - 0s 24ms/step - loss: 0.4678 - accuracy: 0.8504 - val_loss: 0.5225 - val_accuracy: 0.8000\n",
            "Epoch 190/300\n",
            "4/4 [==============================] - 0s 23ms/step - loss: 0.4550 - accuracy: 0.8773 - val_loss: 0.5208 - val_accuracy: 0.8000\n",
            "Epoch 191/300\n",
            "4/4 [==============================] - 0s 22ms/step - loss: 0.4612 - accuracy: 0.8640 - val_loss: 0.5189 - val_accuracy: 0.8000\n",
            "Epoch 192/300\n",
            "4/4 [==============================] - 0s 22ms/step - loss: 0.4718 - accuracy: 0.8421 - val_loss: 0.5168 - val_accuracy: 0.8333\n",
            "Epoch 193/300\n",
            "4/4 [==============================] - 0s 24ms/step - loss: 0.4610 - accuracy: 0.8327 - val_loss: 0.5149 - val_accuracy: 0.8333\n",
            "Epoch 194/300\n",
            "4/4 [==============================] - 0s 22ms/step - loss: 0.4620 - accuracy: 0.8588 - val_loss: 0.5132 - val_accuracy: 0.8333\n",
            "Epoch 195/300\n",
            "4/4 [==============================] - 0s 21ms/step - loss: 0.4534 - accuracy: 0.8504 - val_loss: 0.5115 - val_accuracy: 0.8333\n",
            "Epoch 196/300\n",
            "4/4 [==============================] - 0s 21ms/step - loss: 0.4626 - accuracy: 0.8421 - val_loss: 0.5097 - val_accuracy: 0.8333\n",
            "Epoch 197/300\n",
            "4/4 [==============================] - 0s 21ms/step - loss: 0.4640 - accuracy: 0.8538 - val_loss: 0.5079 - val_accuracy: 0.8333\n",
            "Epoch 198/300\n",
            "4/4 [==============================] - 0s 19ms/step - loss: 0.4768 - accuracy: 0.8342 - val_loss: 0.5061 - val_accuracy: 0.8333\n",
            "Epoch 199/300\n",
            "4/4 [==============================] - 0s 20ms/step - loss: 0.4691 - accuracy: 0.8342 - val_loss: 0.5045 - val_accuracy: 0.8333\n",
            "Epoch 200/300\n",
            "4/4 [==============================] - 0s 21ms/step - loss: 0.4548 - accuracy: 0.8435 - val_loss: 0.5030 - val_accuracy: 0.8333\n",
            "Epoch 201/300\n",
            "4/4 [==============================] - 0s 20ms/step - loss: 0.4245 - accuracy: 0.8652 - val_loss: 0.5016 - val_accuracy: 0.8333\n",
            "Epoch 202/300\n",
            "4/4 [==============================] - 0s 21ms/step - loss: 0.4446 - accuracy: 0.8652 - val_loss: 0.4999 - val_accuracy: 0.8333\n",
            "Epoch 203/300\n",
            "4/4 [==============================] - 0s 24ms/step - loss: 0.4395 - accuracy: 0.8810 - val_loss: 0.4982 - val_accuracy: 0.8333\n",
            "Epoch 204/300\n",
            "4/4 [==============================] - 0s 19ms/step - loss: 0.4444 - accuracy: 0.8696 - val_loss: 0.4965 - val_accuracy: 0.8333\n",
            "Epoch 205/300\n",
            "4/4 [==============================] - 0s 20ms/step - loss: 0.4449 - accuracy: 0.8677 - val_loss: 0.4946 - val_accuracy: 0.8333\n",
            "Epoch 206/300\n",
            "4/4 [==============================] - 0s 19ms/step - loss: 0.4656 - accuracy: 0.8719 - val_loss: 0.4928 - val_accuracy: 0.8333\n",
            "Epoch 207/300\n",
            "4/4 [==============================] - 0s 17ms/step - loss: 0.4513 - accuracy: 0.8552 - val_loss: 0.4913 - val_accuracy: 0.8333\n",
            "Epoch 208/300\n",
            "4/4 [==============================] - 0s 19ms/step - loss: 0.4297 - accuracy: 0.8740 - val_loss: 0.4898 - val_accuracy: 0.8333\n",
            "Epoch 209/300\n",
            "4/4 [==============================] - 0s 20ms/step - loss: 0.4611 - accuracy: 0.8688 - val_loss: 0.4881 - val_accuracy: 0.8333\n",
            "Epoch 210/300\n",
            "4/4 [==============================] - 0s 19ms/step - loss: 0.4372 - accuracy: 0.8469 - val_loss: 0.4864 - val_accuracy: 0.8667\n",
            "Epoch 211/300\n",
            "4/4 [==============================] - 0s 18ms/step - loss: 0.4529 - accuracy: 0.8460 - val_loss: 0.4847 - val_accuracy: 0.8667\n",
            "Epoch 212/300\n",
            "4/4 [==============================] - 0s 17ms/step - loss: 0.4286 - accuracy: 0.8867 - val_loss: 0.4833 - val_accuracy: 0.8667\n",
            "Epoch 213/300\n",
            "4/4 [==============================] - 0s 22ms/step - loss: 0.4535 - accuracy: 0.8867 - val_loss: 0.4817 - val_accuracy: 0.8667\n",
            "Epoch 214/300\n",
            "4/4 [==============================] - 0s 17ms/step - loss: 0.4294 - accuracy: 0.9044 - val_loss: 0.4803 - val_accuracy: 0.8667\n",
            "Epoch 215/300\n",
            "4/4 [==============================] - 0s 21ms/step - loss: 0.4318 - accuracy: 0.8971 - val_loss: 0.4788 - val_accuracy: 0.8667\n",
            "Epoch 216/300\n",
            "4/4 [==============================] - 0s 20ms/step - loss: 0.4085 - accuracy: 0.8950 - val_loss: 0.4771 - val_accuracy: 0.8667\n",
            "Epoch 217/300\n",
            "4/4 [==============================] - 0s 19ms/step - loss: 0.4113 - accuracy: 0.8950 - val_loss: 0.4754 - val_accuracy: 0.8667\n",
            "Epoch 218/300\n",
            "4/4 [==============================] - 0s 24ms/step - loss: 0.4229 - accuracy: 0.8752 - val_loss: 0.4738 - val_accuracy: 0.8667\n",
            "Epoch 219/300\n",
            "4/4 [==============================] - 0s 17ms/step - loss: 0.3932 - accuracy: 0.9085 - val_loss: 0.4724 - val_accuracy: 0.8667\n",
            "Epoch 220/300\n",
            "4/4 [==============================] - 0s 19ms/step - loss: 0.4142 - accuracy: 0.9096 - val_loss: 0.4708 - val_accuracy: 0.9000\n",
            "Epoch 221/300\n",
            "4/4 [==============================] - 0s 19ms/step - loss: 0.4267 - accuracy: 0.8750 - val_loss: 0.4692 - val_accuracy: 0.9000\n",
            "Epoch 222/300\n",
            "4/4 [==============================] - 0s 22ms/step - loss: 0.4203 - accuracy: 0.8656 - val_loss: 0.4675 - val_accuracy: 0.9000\n",
            "Epoch 223/300\n",
            "4/4 [==============================] - 0s 19ms/step - loss: 0.4145 - accuracy: 0.8865 - val_loss: 0.4661 - val_accuracy: 0.9000\n",
            "Epoch 224/300\n",
            "4/4 [==============================] - 0s 23ms/step - loss: 0.4429 - accuracy: 0.8385 - val_loss: 0.4645 - val_accuracy: 0.9000\n",
            "Epoch 225/300\n",
            "4/4 [==============================] - 0s 19ms/step - loss: 0.3965 - accuracy: 0.8833 - val_loss: 0.4632 - val_accuracy: 0.9000\n",
            "Epoch 226/300\n",
            "4/4 [==============================] - 0s 18ms/step - loss: 0.4041 - accuracy: 0.9104 - val_loss: 0.4618 - val_accuracy: 0.9000\n",
            "Epoch 227/300\n",
            "4/4 [==============================] - 0s 18ms/step - loss: 0.3958 - accuracy: 0.9104 - val_loss: 0.4605 - val_accuracy: 0.9000\n",
            "Epoch 228/300\n",
            "4/4 [==============================] - 0s 20ms/step - loss: 0.4327 - accuracy: 0.8656 - val_loss: 0.4588 - val_accuracy: 0.9000\n",
            "Epoch 229/300\n",
            "4/4 [==============================] - 0s 19ms/step - loss: 0.3872 - accuracy: 0.8771 - val_loss: 0.4574 - val_accuracy: 0.9000\n",
            "Epoch 230/300\n",
            "4/4 [==============================] - 0s 20ms/step - loss: 0.3864 - accuracy: 0.9021 - val_loss: 0.4563 - val_accuracy: 0.9000\n",
            "Epoch 231/300\n",
            "4/4 [==============================] - 0s 22ms/step - loss: 0.4218 - accuracy: 0.8750 - val_loss: 0.4546 - val_accuracy: 0.9000\n",
            "Epoch 232/300\n",
            "4/4 [==============================] - 0s 18ms/step - loss: 0.4104 - accuracy: 0.8933 - val_loss: 0.4532 - val_accuracy: 0.9000\n",
            "Epoch 233/300\n",
            "4/4 [==============================] - 0s 24ms/step - loss: 0.4099 - accuracy: 0.9152 - val_loss: 0.4520 - val_accuracy: 0.9000\n",
            "Epoch 234/300\n",
            "4/4 [==============================] - 0s 20ms/step - loss: 0.3985 - accuracy: 0.9235 - val_loss: 0.4506 - val_accuracy: 0.9000\n",
            "Epoch 235/300\n",
            "4/4 [==============================] - 0s 19ms/step - loss: 0.4360 - accuracy: 0.8787 - val_loss: 0.4493 - val_accuracy: 0.9000\n",
            "Epoch 236/300\n",
            "4/4 [==============================] - 0s 19ms/step - loss: 0.3803 - accuracy: 0.9162 - val_loss: 0.4481 - val_accuracy: 0.9000\n",
            "Epoch 237/300\n",
            "4/4 [==============================] - 0s 20ms/step - loss: 0.4139 - accuracy: 0.9058 - val_loss: 0.4467 - val_accuracy: 0.9000\n",
            "Epoch 238/300\n",
            "4/4 [==============================] - 0s 21ms/step - loss: 0.3930 - accuracy: 0.8985 - val_loss: 0.4453 - val_accuracy: 0.9000\n",
            "Epoch 239/300\n",
            "4/4 [==============================] - 0s 17ms/step - loss: 0.3940 - accuracy: 0.9110 - val_loss: 0.4440 - val_accuracy: 0.9000\n",
            "Epoch 240/300\n",
            "4/4 [==============================] - 0s 18ms/step - loss: 0.4024 - accuracy: 0.8787 - val_loss: 0.4426 - val_accuracy: 0.9000\n",
            "Epoch 241/300\n",
            "4/4 [==============================] - 0s 18ms/step - loss: 0.3809 - accuracy: 0.9079 - val_loss: 0.4413 - val_accuracy: 0.9000\n",
            "Epoch 242/300\n",
            "4/4 [==============================] - 0s 19ms/step - loss: 0.3733 - accuracy: 0.9277 - val_loss: 0.4399 - val_accuracy: 0.9000\n",
            "Epoch 243/300\n",
            "4/4 [==============================] - 0s 23ms/step - loss: 0.4161 - accuracy: 0.8892 - val_loss: 0.4384 - val_accuracy: 0.9000\n",
            "Epoch 244/300\n",
            "4/4 [==============================] - 0s 20ms/step - loss: 0.3874 - accuracy: 0.9183 - val_loss: 0.4373 - val_accuracy: 0.9000\n",
            "Epoch 245/300\n",
            "4/4 [==============================] - 0s 16ms/step - loss: 0.3742 - accuracy: 0.9027 - val_loss: 0.4359 - val_accuracy: 0.9000\n",
            "Epoch 246/300\n",
            "4/4 [==============================] - 0s 20ms/step - loss: 0.4114 - accuracy: 0.8798 - val_loss: 0.4347 - val_accuracy: 0.9000\n",
            "Epoch 247/300\n",
            "4/4 [==============================] - 0s 17ms/step - loss: 0.3997 - accuracy: 0.8787 - val_loss: 0.4335 - val_accuracy: 0.9000\n",
            "Epoch 248/300\n",
            "4/4 [==============================] - 0s 19ms/step - loss: 0.3725 - accuracy: 0.9037 - val_loss: 0.4322 - val_accuracy: 0.9000\n",
            "Epoch 249/300\n",
            "4/4 [==============================] - 0s 21ms/step - loss: 0.3934 - accuracy: 0.8808 - val_loss: 0.4310 - val_accuracy: 0.9000\n",
            "Epoch 250/300\n",
            "4/4 [==============================] - 0s 21ms/step - loss: 0.3902 - accuracy: 0.8871 - val_loss: 0.4299 - val_accuracy: 0.9000\n",
            "Epoch 251/300\n",
            "4/4 [==============================] - 0s 18ms/step - loss: 0.3767 - accuracy: 0.9194 - val_loss: 0.4288 - val_accuracy: 0.9000\n",
            "Epoch 252/300\n",
            "4/4 [==============================] - 0s 22ms/step - loss: 0.3946 - accuracy: 0.9006 - val_loss: 0.4275 - val_accuracy: 0.9000\n",
            "Epoch 253/300\n",
            "4/4 [==============================] - 0s 17ms/step - loss: 0.3635 - accuracy: 0.9319 - val_loss: 0.4262 - val_accuracy: 0.9000\n",
            "Epoch 254/300\n",
            "4/4 [==============================] - 0s 20ms/step - loss: 0.3664 - accuracy: 0.8975 - val_loss: 0.4251 - val_accuracy: 0.9000\n",
            "Epoch 255/300\n",
            "4/4 [==============================] - 0s 19ms/step - loss: 0.3807 - accuracy: 0.9040 - val_loss: 0.4237 - val_accuracy: 0.9000\n",
            "Epoch 256/300\n",
            "4/4 [==============================] - 0s 20ms/step - loss: 0.3825 - accuracy: 0.9071 - val_loss: 0.4225 - val_accuracy: 0.9000\n",
            "Epoch 257/300\n",
            "4/4 [==============================] - 0s 19ms/step - loss: 0.4028 - accuracy: 0.9019 - val_loss: 0.4213 - val_accuracy: 0.9000\n",
            "Epoch 258/300\n",
            "4/4 [==============================] - 0s 20ms/step - loss: 0.3610 - accuracy: 0.9227 - val_loss: 0.4202 - val_accuracy: 0.9000\n",
            "Epoch 259/300\n",
            "4/4 [==============================] - 0s 19ms/step - loss: 0.3616 - accuracy: 0.9331 - val_loss: 0.4191 - val_accuracy: 0.9000\n",
            "Epoch 260/300\n",
            "4/4 [==============================] - 0s 22ms/step - loss: 0.3784 - accuracy: 0.9154 - val_loss: 0.4179 - val_accuracy: 0.9000\n",
            "Epoch 261/300\n",
            "4/4 [==============================] - 0s 19ms/step - loss: 0.3657 - accuracy: 0.9040 - val_loss: 0.4167 - val_accuracy: 0.9000\n",
            "Epoch 262/300\n",
            "4/4 [==============================] - 0s 19ms/step - loss: 0.3709 - accuracy: 0.9206 - val_loss: 0.4153 - val_accuracy: 0.9000\n",
            "Epoch 263/300\n",
            "4/4 [==============================] - 0s 22ms/step - loss: 0.3722 - accuracy: 0.9133 - val_loss: 0.4141 - val_accuracy: 0.9333\n",
            "Epoch 264/300\n",
            "4/4 [==============================] - 0s 21ms/step - loss: 0.3789 - accuracy: 0.9029 - val_loss: 0.4129 - val_accuracy: 0.9333\n",
            "Epoch 265/300\n",
            "4/4 [==============================] - 0s 20ms/step - loss: 0.3838 - accuracy: 0.8925 - val_loss: 0.4117 - val_accuracy: 0.9333\n",
            "Epoch 266/300\n",
            "4/4 [==============================] - 0s 17ms/step - loss: 0.3509 - accuracy: 0.9206 - val_loss: 0.4107 - val_accuracy: 0.9333\n",
            "Epoch 267/300\n",
            "4/4 [==============================] - 0s 18ms/step - loss: 0.3665 - accuracy: 0.8894 - val_loss: 0.4096 - val_accuracy: 0.9333\n",
            "Epoch 268/300\n",
            "4/4 [==============================] - 0s 20ms/step - loss: 0.3593 - accuracy: 0.9310 - val_loss: 0.4085 - val_accuracy: 0.9333\n",
            "Epoch 269/300\n",
            "4/4 [==============================] - 0s 19ms/step - loss: 0.3523 - accuracy: 0.9217 - val_loss: 0.4074 - val_accuracy: 0.9333\n",
            "Epoch 270/300\n",
            "4/4 [==============================] - 0s 19ms/step - loss: 0.3543 - accuracy: 0.9102 - val_loss: 0.4063 - val_accuracy: 0.9333\n",
            "Epoch 271/300\n",
            "4/4 [==============================] - 0s 19ms/step - loss: 0.3675 - accuracy: 0.8935 - val_loss: 0.4053 - val_accuracy: 0.9333\n",
            "Epoch 272/300\n",
            "4/4 [==============================] - 0s 21ms/step - loss: 0.3849 - accuracy: 0.8852 - val_loss: 0.4042 - val_accuracy: 0.9333\n",
            "Epoch 273/300\n",
            "4/4 [==============================] - 0s 19ms/step - loss: 0.3642 - accuracy: 0.9071 - val_loss: 0.4031 - val_accuracy: 0.9333\n",
            "Epoch 274/300\n",
            "4/4 [==============================] - 0s 23ms/step - loss: 0.3374 - accuracy: 0.9385 - val_loss: 0.4021 - val_accuracy: 0.9333\n",
            "Epoch 275/300\n",
            "4/4 [==============================] - 0s 21ms/step - loss: 0.3618 - accuracy: 0.9240 - val_loss: 0.4011 - val_accuracy: 0.9333\n",
            "Epoch 276/300\n",
            "4/4 [==============================] - 0s 21ms/step - loss: 0.3576 - accuracy: 0.9156 - val_loss: 0.4001 - val_accuracy: 0.9333\n",
            "Epoch 277/300\n",
            "4/4 [==============================] - 0s 19ms/step - loss: 0.3543 - accuracy: 0.9198 - val_loss: 0.3991 - val_accuracy: 0.9333\n",
            "Epoch 278/300\n",
            "4/4 [==============================] - 0s 18ms/step - loss: 0.3785 - accuracy: 0.9083 - val_loss: 0.3980 - val_accuracy: 0.9333\n",
            "Epoch 279/300\n",
            "4/4 [==============================] - 0s 21ms/step - loss: 0.3337 - accuracy: 0.9354 - val_loss: 0.3970 - val_accuracy: 0.9333\n",
            "Epoch 280/300\n",
            "4/4 [==============================] - 0s 18ms/step - loss: 0.3741 - accuracy: 0.8917 - val_loss: 0.3960 - val_accuracy: 0.9333\n",
            "Epoch 281/300\n",
            "4/4 [==============================] - 0s 19ms/step - loss: 0.3517 - accuracy: 0.9177 - val_loss: 0.3951 - val_accuracy: 0.9333\n",
            "Epoch 282/300\n",
            "4/4 [==============================] - 0s 19ms/step - loss: 0.3408 - accuracy: 0.9240 - val_loss: 0.3939 - val_accuracy: 0.9333\n",
            "Epoch 283/300\n",
            "4/4 [==============================] - 0s 20ms/step - loss: 0.3367 - accuracy: 0.9396 - val_loss: 0.3929 - val_accuracy: 0.9333\n",
            "Epoch 284/300\n",
            "4/4 [==============================] - 0s 22ms/step - loss: 0.3633 - accuracy: 0.9167 - val_loss: 0.3919 - val_accuracy: 0.9333\n",
            "Epoch 285/300\n",
            "4/4 [==============================] - 0s 19ms/step - loss: 0.3462 - accuracy: 0.9156 - val_loss: 0.3909 - val_accuracy: 0.9333\n",
            "Epoch 286/300\n",
            "4/4 [==============================] - 0s 22ms/step - loss: 0.3236 - accuracy: 0.9365 - val_loss: 0.3898 - val_accuracy: 0.9333\n",
            "Epoch 287/300\n",
            "4/4 [==============================] - 0s 21ms/step - loss: 0.3481 - accuracy: 0.9010 - val_loss: 0.3888 - val_accuracy: 0.9333\n",
            "Epoch 288/300\n",
            "4/4 [==============================] - 0s 26ms/step - loss: 0.3389 - accuracy: 0.9281 - val_loss: 0.3878 - val_accuracy: 0.9333\n",
            "Epoch 289/300\n",
            "4/4 [==============================] - 0s 19ms/step - loss: 0.3645 - accuracy: 0.9042 - val_loss: 0.3868 - val_accuracy: 0.9333\n",
            "Epoch 290/300\n",
            "4/4 [==============================] - 0s 17ms/step - loss: 0.3547 - accuracy: 0.9146 - val_loss: 0.3858 - val_accuracy: 0.9333\n",
            "Epoch 291/300\n",
            "4/4 [==============================] - 0s 18ms/step - loss: 0.3491 - accuracy: 0.9219 - val_loss: 0.3849 - val_accuracy: 0.9333\n",
            "Epoch 292/300\n",
            "4/4 [==============================] - 0s 20ms/step - loss: 0.3593 - accuracy: 0.9104 - val_loss: 0.3839 - val_accuracy: 0.9333\n",
            "Epoch 293/300\n",
            "4/4 [==============================] - 0s 17ms/step - loss: 0.3598 - accuracy: 0.9198 - val_loss: 0.3830 - val_accuracy: 0.9333\n",
            "Epoch 294/300\n",
            "4/4 [==============================] - 0s 21ms/step - loss: 0.3423 - accuracy: 0.9104 - val_loss: 0.3822 - val_accuracy: 0.9333\n",
            "Epoch 295/300\n",
            "4/4 [==============================] - 0s 21ms/step - loss: 0.3253 - accuracy: 0.9417 - val_loss: 0.3813 - val_accuracy: 0.9333\n",
            "Epoch 296/300\n",
            "4/4 [==============================] - 0s 20ms/step - loss: 0.3591 - accuracy: 0.9031 - val_loss: 0.3803 - val_accuracy: 0.9333\n",
            "Epoch 297/300\n",
            "4/4 [==============================] - 0s 20ms/step - loss: 0.3521 - accuracy: 0.9010 - val_loss: 0.3795 - val_accuracy: 0.9333\n",
            "Epoch 298/300\n",
            "4/4 [==============================] - 0s 19ms/step - loss: 0.3431 - accuracy: 0.9156 - val_loss: 0.3785 - val_accuracy: 0.9333\n",
            "Epoch 299/300\n",
            "4/4 [==============================] - 0s 20ms/step - loss: 0.3522 - accuracy: 0.8958 - val_loss: 0.3777 - val_accuracy: 0.9333\n",
            "Epoch 300/300\n",
            "4/4 [==============================] - 0s 19ms/step - loss: 0.3254 - accuracy: 0.9281 - val_loss: 0.3767 - val_accuracy: 0.9333\n"
          ],
          "name": "stdout"
        },
        {
          "output_type": "execute_result",
          "data": {
            "text/plain": [
              "<tensorflow.python.keras.callbacks.History at 0x7f3a016efe50>"
            ]
          },
          "metadata": {
            "tags": []
          },
          "execution_count": 22
        }
      ]
    },
    {
      "cell_type": "markdown",
      "metadata": {
        "id": "L4IePZU7Bi_x"
      },
      "source": [
        "## Model Evaluation"
      ]
    },
    {
      "cell_type": "code",
      "metadata": {
        "id": "8R4k0sJ5Bi_x"
      },
      "source": [
        "metrics = pd.DataFrame(model.history.history)"
      ],
      "execution_count": null,
      "outputs": []
    },
    {
      "cell_type": "code",
      "metadata": {
        "colab": {
          "base_uri": "https://localhost:8080/",
          "height": 402
        },
        "id": "KRc35FzyBi_y",
        "outputId": "d472b63c-db65-436f-e188-703900de34b5"
      },
      "source": [
        "metrics"
      ],
      "execution_count": null,
      "outputs": [
        {
          "output_type": "execute_result",
          "data": {
            "text/html": [
              "<div>\n",
              "<style scoped>\n",
              "    .dataframe tbody tr th:only-of-type {\n",
              "        vertical-align: middle;\n",
              "    }\n",
              "\n",
              "    .dataframe tbody tr th {\n",
              "        vertical-align: top;\n",
              "    }\n",
              "\n",
              "    .dataframe thead th {\n",
              "        text-align: right;\n",
              "    }\n",
              "</style>\n",
              "<table border=\"1\" class=\"dataframe\">\n",
              "  <thead>\n",
              "    <tr style=\"text-align: right;\">\n",
              "      <th></th>\n",
              "      <th>loss</th>\n",
              "      <th>accuracy</th>\n",
              "      <th>val_loss</th>\n",
              "      <th>val_accuracy</th>\n",
              "    </tr>\n",
              "  </thead>\n",
              "  <tbody>\n",
              "    <tr>\n",
              "      <th>0</th>\n",
              "      <td>1.182682</td>\n",
              "      <td>0.341667</td>\n",
              "      <td>1.180873</td>\n",
              "      <td>0.400000</td>\n",
              "    </tr>\n",
              "    <tr>\n",
              "      <th>1</th>\n",
              "      <td>1.175237</td>\n",
              "      <td>0.341667</td>\n",
              "      <td>1.173782</td>\n",
              "      <td>0.400000</td>\n",
              "    </tr>\n",
              "    <tr>\n",
              "      <th>2</th>\n",
              "      <td>1.168105</td>\n",
              "      <td>0.325000</td>\n",
              "      <td>1.166843</td>\n",
              "      <td>0.400000</td>\n",
              "    </tr>\n",
              "    <tr>\n",
              "      <th>3</th>\n",
              "      <td>1.160630</td>\n",
              "      <td>0.325000</td>\n",
              "      <td>1.160323</td>\n",
              "      <td>0.400000</td>\n",
              "    </tr>\n",
              "    <tr>\n",
              "      <th>4</th>\n",
              "      <td>1.154334</td>\n",
              "      <td>0.325000</td>\n",
              "      <td>1.154061</td>\n",
              "      <td>0.400000</td>\n",
              "    </tr>\n",
              "    <tr>\n",
              "      <th>...</th>\n",
              "      <td>...</td>\n",
              "      <td>...</td>\n",
              "      <td>...</td>\n",
              "      <td>...</td>\n",
              "    </tr>\n",
              "    <tr>\n",
              "      <th>295</th>\n",
              "      <td>0.340262</td>\n",
              "      <td>0.916667</td>\n",
              "      <td>0.380325</td>\n",
              "      <td>0.933333</td>\n",
              "    </tr>\n",
              "    <tr>\n",
              "      <th>296</th>\n",
              "      <td>0.339254</td>\n",
              "      <td>0.916667</td>\n",
              "      <td>0.379466</td>\n",
              "      <td>0.933333</td>\n",
              "    </tr>\n",
              "    <tr>\n",
              "      <th>297</th>\n",
              "      <td>0.338445</td>\n",
              "      <td>0.916667</td>\n",
              "      <td>0.378541</td>\n",
              "      <td>0.933333</td>\n",
              "    </tr>\n",
              "    <tr>\n",
              "      <th>298</th>\n",
              "      <td>0.337618</td>\n",
              "      <td>0.916667</td>\n",
              "      <td>0.377676</td>\n",
              "      <td>0.933333</td>\n",
              "    </tr>\n",
              "    <tr>\n",
              "      <th>299</th>\n",
              "      <td>0.336765</td>\n",
              "      <td>0.916667</td>\n",
              "      <td>0.376721</td>\n",
              "      <td>0.933333</td>\n",
              "    </tr>\n",
              "  </tbody>\n",
              "</table>\n",
              "<p>300 rows × 4 columns</p>\n",
              "</div>"
            ],
            "text/plain": [
              "         loss  accuracy  val_loss  val_accuracy\n",
              "0    1.182682  0.341667  1.180873      0.400000\n",
              "1    1.175237  0.341667  1.173782      0.400000\n",
              "2    1.168105  0.325000  1.166843      0.400000\n",
              "3    1.160630  0.325000  1.160323      0.400000\n",
              "4    1.154334  0.325000  1.154061      0.400000\n",
              "..        ...       ...       ...           ...\n",
              "295  0.340262  0.916667  0.380325      0.933333\n",
              "296  0.339254  0.916667  0.379466      0.933333\n",
              "297  0.338445  0.916667  0.378541      0.933333\n",
              "298  0.337618  0.916667  0.377676      0.933333\n",
              "299  0.336765  0.916667  0.376721      0.933333\n",
              "\n",
              "[300 rows x 4 columns]"
            ]
          },
          "metadata": {
            "tags": []
          },
          "execution_count": 24
        }
      ]
    },
    {
      "cell_type": "code",
      "metadata": {
        "colab": {
          "base_uri": "https://localhost:8080/",
          "height": 282
        },
        "id": "CMIaUNdkBi_z",
        "outputId": "4224f83b-c856-4056-b2a2-37862ca13d31"
      },
      "source": [
        "metrics[['loss','val_loss']].plot()"
      ],
      "execution_count": null,
      "outputs": [
        {
          "output_type": "execute_result",
          "data": {
            "text/plain": [
              "<matplotlib.axes._subplots.AxesSubplot at 0x7f39fddf4990>"
            ]
          },
          "metadata": {
            "tags": []
          },
          "execution_count": 25
        },
        {
          "output_type": "display_data",
          "data": {
            "image/png": "[encoded data removed]",
            "text/plain": [
              "<Figure size 432x288 with 1 Axes>"
            ]
          },
          "metadata": {
            "tags": [],
            "needs_background": "light"
          }
        }
      ]
    },
    {
      "cell_type": "code",
      "metadata": {
        "colab": {
          "base_uri": "https://localhost:8080/",
          "height": 282
        },
        "id": "fJYCOIB1Bi_z",
        "outputId": "a815ce16-2c32-4016-d3cf-70b0b1b94f34"
      },
      "source": [
        "metrics[['accuracy','val_accuracy']].plot()"
      ],
      "execution_count": null,
      "outputs": [
        {
          "output_type": "execute_result",
          "data": {
            "text/plain": [
              "<matplotlib.axes._subplots.AxesSubplot at 0x7f39fdceed90>"
            ]
          },
          "metadata": {
            "tags": []
          },
          "execution_count": 26
        },
        {
          "output_type": "display_data",
          "data": {
            "image/png": "[encoded data removed]",
            "text/plain": [
              "<Figure size 432x288 with 1 Axes>"
            ]
          },
          "metadata": {
            "tags": [],
            "needs_background": "light"
          }
        }
      ]
    },
    {
      "cell_type": "code",
      "metadata": {
        "colab": {
          "base_uri": "https://localhost:8080/"
        },
        "id": "Jt_y40b2Bi_0",
        "outputId": "0f4817ac-aa13-4302-addf-45da3ec7fab6"
      },
      "source": [
        "model.evaluate(scaled_X_test,y_test,verbose=0)"
      ],
      "execution_count": null,
      "outputs": [
        {
          "output_type": "execute_result",
          "data": {
            "text/plain": [
              "[0.3767208456993103, 0.9333333373069763]"
            ]
          },
          "metadata": {
            "tags": []
          },
          "execution_count": 27
        }
      ]
    },
    {
      "cell_type": "markdown",
      "metadata": {
        "id": "PZlPTmXZBi_1"
      },
      "source": [
        "## Ready Model for Deployment"
      ]
    },
    {
      "cell_type": "code",
      "metadata": {
        "id": "CE5aPMNPBi_1"
      },
      "source": [
        "epochs = len(metrics)"
      ],
      "execution_count": null,
      "outputs": []
    },
    {
      "cell_type": "code",
      "metadata": {
        "id": "lK0av8ZhBi_2"
      },
      "source": [
        "scaled_X = scaler.fit_transform(X)"
      ],
      "execution_count": null,
      "outputs": []
    },
    {
      "cell_type": "code",
      "metadata": {
        "id": "j_trJGAaBi_2"
      },
      "source": [
        "model = Sequential()\n",
        "model.add(Dense(units=4,activation='relu'))\n",
        "\n",
        "# Last layer for multi-class classification of 3 species\n",
        "model.add(Dense(units=3,activation='softmax'))\n",
        "\n",
        "model.compile(optimizer='adam',\n",
        "              loss='categorical_crossentropy',metrics=['accuracy'])"
      ],
      "execution_count": null,
      "outputs": []
    },
    {
      "cell_type": "code",
      "metadata": {
        "colab": {
          "base_uri": "https://localhost:8080/"
        },
        "id": "7L3OxYNMBi_3",
        "outputId": "998c11e8-7568-4800-b8e4-4ac2180163aa"
      },
      "source": [
        "model.fit(scaled_X,y,epochs=epochs)"
      ],
      "execution_count": null,
      "outputs": [
        {
          "output_type": "stream",
          "text": [
            "Epoch 1/300\n",
            "5/5 [==============================] - 0s 4ms/step - loss: 1.4321 - accuracy: 0.3212\n",
            "Epoch 2/300\n",
            "5/5 [==============================] - 0s 2ms/step - loss: 1.4828 - accuracy: 0.2886\n",
            "Epoch 3/300\n",
            "5/5 [==============================] - 0s 3ms/step - loss: 1.4775 - accuracy: 0.2986\n",
            "Epoch 4/300\n",
            "5/5 [==============================] - 0s 3ms/step - loss: 1.4018 - accuracy: 0.3229\n",
            "Epoch 5/300\n",
            "5/5 [==============================] - 0s 3ms/step - loss: 1.4397 - accuracy: 0.2760\n",
            "Epoch 6/300\n",
            "5/5 [==============================] - 0s 3ms/step - loss: 1.3551 - accuracy: 0.3124\n",
            "Epoch 7/300\n",
            "5/5 [==============================] - 0s 3ms/step - loss: 1.3789 - accuracy: 0.3120\n",
            "Epoch 8/300\n",
            "5/5 [==============================] - 0s 3ms/step - loss: 1.3129 - accuracy: 0.3567\n",
            "Epoch 9/300\n",
            "5/5 [==============================] - 0s 3ms/step - loss: 1.3517 - accuracy: 0.3385\n",
            "Epoch 10/300\n",
            "5/5 [==============================] - 0s 4ms/step - loss: 1.3256 - accuracy: 0.3242\n",
            "Epoch 11/300\n",
            "5/5 [==============================] - 0s 3ms/step - loss: 1.3775 - accuracy: 0.2916\n",
            "Epoch 12/300\n",
            "5/5 [==============================] - 0s 4ms/step - loss: 1.3025 - accuracy: 0.3033\n",
            "Epoch 13/300\n",
            "5/5 [==============================] - 0s 3ms/step - loss: 1.2858 - accuracy: 0.3285\n",
            "Epoch 14/300\n",
            "5/5 [==============================] - 0s 4ms/step - loss: 1.3289 - accuracy: 0.2914\n",
            "Epoch 15/300\n",
            "5/5 [==============================] - 0s 3ms/step - loss: 1.2946 - accuracy: 0.2486\n",
            "Epoch 16/300\n",
            "5/5 [==============================] - 0s 3ms/step - loss: 1.2748 - accuracy: 0.2177\n",
            "Epoch 17/300\n",
            "5/5 [==============================] - 0s 7ms/step - loss: 1.2827 - accuracy: 0.2406\n",
            "Epoch 18/300\n",
            "5/5 [==============================] - 0s 3ms/step - loss: 1.2575 - accuracy: 0.2083\n",
            "Epoch 19/300\n",
            "5/5 [==============================] - 0s 3ms/step - loss: 1.2530 - accuracy: 0.2069\n",
            "Epoch 20/300\n",
            "5/5 [==============================] - 0s 4ms/step - loss: 1.2101 - accuracy: 0.1654\n",
            "Epoch 21/300\n",
            "5/5 [==============================] - 0s 3ms/step - loss: 1.2421 - accuracy: 0.1431\n",
            "Epoch 22/300\n",
            "5/5 [==============================] - 0s 3ms/step - loss: 1.2096 - accuracy: 0.1559\n",
            "Epoch 23/300\n",
            "5/5 [==============================] - 0s 4ms/step - loss: 1.2054 - accuracy: 0.1033\n",
            "Epoch 24/300\n",
            "5/5 [==============================] - 0s 4ms/step - loss: 1.2047 - accuracy: 0.0849\n",
            "Epoch 25/300\n",
            "5/5 [==============================] - 0s 2ms/step - loss: 1.2016 - accuracy: 0.0814\n",
            "Epoch 26/300\n",
            "5/5 [==============================] - 0s 3ms/step - loss: 1.1787 - accuracy: 0.1144\n",
            "Epoch 27/300\n",
            "5/5 [==============================] - 0s 3ms/step - loss: 1.1824 - accuracy: 0.0882\n",
            "Epoch 28/300\n",
            "5/5 [==============================] - 0s 3ms/step - loss: 1.1944 - accuracy: 0.0804\n",
            "Epoch 29/300\n",
            "5/5 [==============================] - 0s 3ms/step - loss: 1.1843 - accuracy: 0.0687\n",
            "Epoch 30/300\n",
            "5/5 [==============================] - 0s 5ms/step - loss: 1.1562 - accuracy: 0.1057\n",
            "Epoch 31/300\n",
            "5/5 [==============================] - 0s 3ms/step - loss: 1.1468 - accuracy: 0.1079\n",
            "Epoch 32/300\n",
            "5/5 [==============================] - 0s 3ms/step - loss: 1.1605 - accuracy: 0.0754\n",
            "Epoch 33/300\n",
            "5/5 [==============================] - 0s 4ms/step - loss: 1.1632 - accuracy: 0.1520\n",
            "Epoch 34/300\n",
            "5/5 [==============================] - 0s 3ms/step - loss: 1.1485 - accuracy: 0.1373\n",
            "Epoch 35/300\n",
            "5/5 [==============================] - 0s 5ms/step - loss: 1.1446 - accuracy: 0.1488\n",
            "Epoch 36/300\n",
            "5/5 [==============================] - 0s 6ms/step - loss: 1.1480 - accuracy: 0.1831\n",
            "Epoch 37/300\n",
            "5/5 [==============================] - 0s 4ms/step - loss: 1.1316 - accuracy: 0.2100\n",
            "Epoch 38/300\n",
            "5/5 [==============================] - 0s 5ms/step - loss: 1.1413 - accuracy: 0.2327\n",
            "Epoch 39/300\n",
            "5/5 [==============================] - 0s 5ms/step - loss: 1.1370 - accuracy: 0.2440\n",
            "Epoch 40/300\n",
            "5/5 [==============================] - 0s 4ms/step - loss: 1.1335 - accuracy: 0.2580\n",
            "Epoch 41/300\n",
            "5/5 [==============================] - 0s 8ms/step - loss: 1.1292 - accuracy: 0.2424\n",
            "Epoch 42/300\n",
            "5/5 [==============================] - 0s 4ms/step - loss: 1.1283 - accuracy: 0.2307\n",
            "Epoch 43/300\n",
            "5/5 [==============================] - 0s 3ms/step - loss: 1.1262 - accuracy: 0.2633\n",
            "Epoch 44/300\n",
            "5/5 [==============================] - 0s 3ms/step - loss: 1.1320 - accuracy: 0.2107\n",
            "Epoch 45/300\n",
            "5/5 [==============================] - 0s 5ms/step - loss: 1.1248 - accuracy: 0.2633\n",
            "Epoch 46/300\n",
            "5/5 [==============================] - 0s 4ms/step - loss: 1.1268 - accuracy: 0.2494\n",
            "Epoch 47/300\n",
            "5/5 [==============================] - 0s 3ms/step - loss: 1.1230 - accuracy: 0.2655\n",
            "Epoch 48/300\n",
            "5/5 [==============================] - 0s 4ms/step - loss: 1.1201 - accuracy: 0.2559\n",
            "Epoch 49/300\n",
            "5/5 [==============================] - 0s 4ms/step - loss: 1.1175 - accuracy: 0.2442\n",
            "Epoch 50/300\n",
            "5/5 [==============================] - 0s 3ms/step - loss: 1.1200 - accuracy: 0.2724\n",
            "Epoch 51/300\n",
            "5/5 [==============================] - 0s 3ms/step - loss: 1.1137 - accuracy: 0.2576\n",
            "Epoch 52/300\n",
            "5/5 [==============================] - 0s 3ms/step - loss: 1.1132 - accuracy: 0.2881\n",
            "Epoch 53/300\n",
            "5/5 [==============================] - 0s 3ms/step - loss: 1.1117 - accuracy: 0.2999\n",
            "Epoch 54/300\n",
            "5/5 [==============================] - 0s 3ms/step - loss: 1.1128 - accuracy: 0.2951\n",
            "Epoch 55/300\n",
            "5/5 [==============================] - 0s 3ms/step - loss: 1.1113 - accuracy: 0.2519\n",
            "Epoch 56/300\n",
            "5/5 [==============================] - 0s 5ms/step - loss: 1.1117 - accuracy: 0.2698\n",
            "Epoch 57/300\n",
            "5/5 [==============================] - 0s 3ms/step - loss: 1.1108 - accuracy: 0.2438\n",
            "Epoch 58/300\n",
            "5/5 [==============================] - 0s 3ms/step - loss: 1.1118 - accuracy: 0.2579\n",
            "Epoch 59/300\n",
            "5/5 [==============================] - 0s 3ms/step - loss: 1.1105 - accuracy: 0.2922\n",
            "Epoch 60/300\n",
            "5/5 [==============================] - 0s 3ms/step - loss: 1.1105 - accuracy: 0.2458\n",
            "Epoch 61/300\n",
            "5/5 [==============================] - 0s 5ms/step - loss: 1.1075 - accuracy: 0.2939\n",
            "Epoch 62/300\n",
            "5/5 [==============================] - 0s 3ms/step - loss: 1.1059 - accuracy: 0.2913\n",
            "Epoch 63/300\n",
            "5/5 [==============================] - 0s 4ms/step - loss: 1.1045 - accuracy: 0.2587\n",
            "Epoch 64/300\n",
            "5/5 [==============================] - 0s 5ms/step - loss: 1.1045 - accuracy: 0.3061\n",
            "Epoch 65/300\n",
            "5/5 [==============================] - 0s 5ms/step - loss: 1.1027 - accuracy: 0.3462\n",
            "Epoch 66/300\n",
            "5/5 [==============================] - 0s 6ms/step - loss: 1.1040 - accuracy: 0.3046\n",
            "Epoch 67/300\n",
            "5/5 [==============================] - 0s 3ms/step - loss: 1.1028 - accuracy: 0.3321\n",
            "Epoch 68/300\n",
            "5/5 [==============================] - 0s 5ms/step - loss: 1.1031 - accuracy: 0.3161\n",
            "Epoch 69/300\n",
            "5/5 [==============================] - 0s 3ms/step - loss: 1.1001 - accuracy: 0.3830\n",
            "Epoch 70/300\n",
            "5/5 [==============================] - 0s 3ms/step - loss: 1.1012 - accuracy: 0.3607\n",
            "Epoch 71/300\n",
            "5/5 [==============================] - 0s 3ms/step - loss: 1.0978 - accuracy: 0.4132\n",
            "Epoch 72/300\n",
            "5/5 [==============================] - 0s 3ms/step - loss: 1.0989 - accuracy: 0.3863\n",
            "Epoch 73/300\n",
            "5/5 [==============================] - 0s 5ms/step - loss: 1.0963 - accuracy: 0.4376\n",
            "Epoch 74/300\n",
            "5/5 [==============================] - 0s 3ms/step - loss: 1.0974 - accuracy: 0.4030\n",
            "Epoch 75/300\n",
            "5/5 [==============================] - 0s 4ms/step - loss: 1.0963 - accuracy: 0.4095\n",
            "Epoch 76/300\n",
            "5/5 [==============================] - 0s 4ms/step - loss: 1.0955 - accuracy: 0.4231\n",
            "Epoch 77/300\n",
            "5/5 [==============================] - 0s 3ms/step - loss: 1.0937 - accuracy: 0.4526\n",
            "Epoch 78/300\n",
            "5/5 [==============================] - 0s 3ms/step - loss: 1.0929 - accuracy: 0.4368\n",
            "Epoch 79/300\n",
            "5/5 [==============================] - 0s 3ms/step - loss: 1.0905 - accuracy: 0.4958\n",
            "Epoch 80/300\n",
            "5/5 [==============================] - 0s 4ms/step - loss: 1.0891 - accuracy: 0.5250\n",
            "Epoch 81/300\n",
            "5/5 [==============================] - 0s 3ms/step - loss: 1.0872 - accuracy: 0.5394\n",
            "Epoch 82/300\n",
            "5/5 [==============================] - 0s 4ms/step - loss: 1.0866 - accuracy: 0.5182\n",
            "Epoch 83/300\n",
            "5/5 [==============================] - 0s 3ms/step - loss: 1.0914 - accuracy: 0.4631\n",
            "Epoch 84/300\n",
            "5/5 [==============================] - 0s 9ms/step - loss: 1.0902 - accuracy: 0.4901\n",
            "Epoch 85/300\n",
            "5/5 [==============================] - 0s 4ms/step - loss: 1.0849 - accuracy: 0.5283\n",
            "Epoch 86/300\n",
            "5/5 [==============================] - 0s 5ms/step - loss: 1.0845 - accuracy: 0.5483\n",
            "Epoch 87/300\n",
            "5/5 [==============================] - 0s 4ms/step - loss: 1.0872 - accuracy: 0.4832\n",
            "Epoch 88/300\n",
            "5/5 [==============================] - 0s 4ms/step - loss: 1.0842 - accuracy: 0.5311\n",
            "Epoch 89/300\n",
            "5/5 [==============================] - 0s 5ms/step - loss: 1.0814 - accuracy: 0.5293\n",
            "Epoch 90/300\n",
            "5/5 [==============================] - 0s 6ms/step - loss: 1.0813 - accuracy: 0.5263\n",
            "Epoch 91/300\n",
            "5/5 [==============================] - 0s 3ms/step - loss: 1.0796 - accuracy: 0.5381\n",
            "Epoch 92/300\n",
            "5/5 [==============================] - 0s 4ms/step - loss: 1.0810 - accuracy: 0.5325\n",
            "Epoch 93/300\n",
            "5/5 [==============================] - 0s 4ms/step - loss: 1.0747 - accuracy: 0.5828\n",
            "Epoch 94/300\n",
            "5/5 [==============================] - 0s 4ms/step - loss: 1.0736 - accuracy: 0.5768\n",
            "Epoch 95/300\n",
            "5/5 [==============================] - 0s 3ms/step - loss: 1.0737 - accuracy: 0.5760\n",
            "Epoch 96/300\n",
            "5/5 [==============================] - 0s 3ms/step - loss: 1.0715 - accuracy: 0.5873\n",
            "Epoch 97/300\n",
            "5/5 [==============================] - 0s 3ms/step - loss: 1.0780 - accuracy: 0.5418\n",
            "Epoch 98/300\n",
            "5/5 [==============================] - 0s 3ms/step - loss: 1.0736 - accuracy: 0.5458\n",
            "Epoch 99/300\n",
            "5/5 [==============================] - 0s 4ms/step - loss: 1.0711 - accuracy: 0.5831\n",
            "Epoch 100/300\n",
            "5/5 [==============================] - 0s 3ms/step - loss: 1.0724 - accuracy: 0.5614\n",
            "Epoch 101/300\n",
            "5/5 [==============================] - 0s 4ms/step - loss: 1.0704 - accuracy: 0.5801\n",
            "Epoch 102/300\n",
            "5/5 [==============================] - 0s 3ms/step - loss: 1.0683 - accuracy: 0.5840\n",
            "Epoch 103/300\n",
            "5/5 [==============================] - 0s 3ms/step - loss: 1.0650 - accuracy: 0.6170\n",
            "Epoch 104/300\n",
            "5/5 [==============================] - 0s 3ms/step - loss: 1.0653 - accuracy: 0.5962\n",
            "Epoch 105/300\n",
            "5/5 [==============================] - 0s 3ms/step - loss: 1.0598 - accuracy: 0.6201\n",
            "Epoch 106/300\n",
            "5/5 [==============================] - 0s 3ms/step - loss: 1.0704 - accuracy: 0.5463\n",
            "Epoch 107/300\n",
            "5/5 [==============================] - 0s 3ms/step - loss: 1.0613 - accuracy: 0.6015\n",
            "Epoch 108/300\n",
            "5/5 [==============================] - 0s 4ms/step - loss: 1.0626 - accuracy: 0.5776\n",
            "Epoch 109/300\n",
            "5/5 [==============================] - 0s 4ms/step - loss: 1.0630 - accuracy: 0.5820\n",
            "Epoch 110/300\n",
            "5/5 [==============================] - 0s 3ms/step - loss: 1.0570 - accuracy: 0.6333\n",
            "Epoch 111/300\n",
            "5/5 [==============================] - 0s 3ms/step - loss: 1.0554 - accuracy: 0.6242\n",
            "Epoch 112/300\n",
            "5/5 [==============================] - 0s 3ms/step - loss: 1.0521 - accuracy: 0.6716\n",
            "Epoch 113/300\n",
            "5/5 [==============================] - 0s 3ms/step - loss: 1.0527 - accuracy: 0.6556\n",
            "Epoch 114/300\n",
            "5/5 [==============================] - 0s 3ms/step - loss: 1.0508 - accuracy: 0.6508\n",
            "Epoch 115/300\n",
            "5/5 [==============================] - 0s 3ms/step - loss: 1.0528 - accuracy: 0.6534\n",
            "Epoch 116/300\n",
            "5/5 [==============================] - 0s 4ms/step - loss: 1.0510 - accuracy: 0.6369\n",
            "Epoch 117/300\n",
            "5/5 [==============================] - 0s 3ms/step - loss: 1.0479 - accuracy: 0.6434\n",
            "Epoch 118/300\n",
            "5/5 [==============================] - 0s 4ms/step - loss: 1.0513 - accuracy: 0.6343\n",
            "Epoch 119/300\n",
            "5/5 [==============================] - 0s 3ms/step - loss: 1.0449 - accuracy: 0.6434\n",
            "Epoch 120/300\n",
            "5/5 [==============================] - 0s 4ms/step - loss: 1.0458 - accuracy: 0.6373\n",
            "Epoch 121/300\n",
            "5/5 [==============================] - 0s 4ms/step - loss: 1.0420 - accuracy: 0.6373\n",
            "Epoch 122/300\n",
            "5/5 [==============================] - 0s 3ms/step - loss: 1.0433 - accuracy: 0.6273\n",
            "Epoch 123/300\n",
            "5/5 [==============================] - 0s 3ms/step - loss: 1.0384 - accuracy: 0.6352\n",
            "Epoch 124/300\n",
            "5/5 [==============================] - 0s 5ms/step - loss: 1.0376 - accuracy: 0.6317\n",
            "Epoch 125/300\n",
            "5/5 [==============================] - 0s 11ms/step - loss: 1.0362 - accuracy: 0.6482\n",
            "Epoch 126/300\n",
            "5/5 [==============================] - 0s 5ms/step - loss: 1.0362 - accuracy: 0.6226\n",
            "Epoch 127/300\n",
            "5/5 [==============================] - 0s 4ms/step - loss: 1.0359 - accuracy: 0.6161\n",
            "Epoch 128/300\n",
            "5/5 [==============================] - 0s 4ms/step - loss: 1.0366 - accuracy: 0.6286\n",
            "Epoch 129/300\n",
            "5/5 [==============================] - 0s 7ms/step - loss: 1.0278 - accuracy: 0.6551\n",
            "Epoch 130/300\n",
            "5/5 [==============================] - 0s 4ms/step - loss: 1.0354 - accuracy: 0.6135\n",
            "Epoch 131/300\n",
            "5/5 [==============================] - 0s 3ms/step - loss: 1.0322 - accuracy: 0.6208\n",
            "Epoch 132/300\n",
            "5/5 [==============================] - 0s 4ms/step - loss: 1.0258 - accuracy: 0.6195\n",
            "Epoch 133/300\n",
            "5/5 [==============================] - 0s 4ms/step - loss: 1.0255 - accuracy: 0.6295\n",
            "Epoch 134/300\n",
            "5/5 [==============================] - 0s 3ms/step - loss: 1.0114 - accuracy: 0.6764\n",
            "Epoch 135/300\n",
            "5/5 [==============================] - 0s 2ms/step - loss: 1.0236 - accuracy: 0.6117\n",
            "Epoch 136/300\n",
            "5/5 [==============================] - 0s 4ms/step - loss: 1.0180 - accuracy: 0.6317\n",
            "Epoch 137/300\n",
            "5/5 [==============================] - 0s 4ms/step - loss: 1.0228 - accuracy: 0.6009\n",
            "Epoch 138/300\n",
            "5/5 [==============================] - 0s 3ms/step - loss: 1.0209 - accuracy: 0.5918\n",
            "Epoch 139/300\n",
            "5/5 [==============================] - 0s 3ms/step - loss: 1.0171 - accuracy: 0.6260\n",
            "Epoch 140/300\n",
            "5/5 [==============================] - 0s 3ms/step - loss: 1.0136 - accuracy: 0.6365\n",
            "Epoch 141/300\n",
            "5/5 [==============================] - 0s 3ms/step - loss: 1.0101 - accuracy: 0.6282\n",
            "Epoch 142/300\n",
            "5/5 [==============================] - 0s 3ms/step - loss: 1.0048 - accuracy: 0.6430\n",
            "Epoch 143/300\n",
            "5/5 [==============================] - 0s 3ms/step - loss: 1.0028 - accuracy: 0.6560\n",
            "Epoch 144/300\n",
            "5/5 [==============================] - 0s 6ms/step - loss: 1.0055 - accuracy: 0.6226\n",
            "Epoch 145/300\n",
            "5/5 [==============================] - 0s 5ms/step - loss: 0.9910 - accuracy: 0.6703\n",
            "Epoch 146/300\n",
            "5/5 [==============================] - 0s 4ms/step - loss: 0.9962 - accuracy: 0.6642\n",
            "Epoch 147/300\n",
            "5/5 [==============================] - 0s 5ms/step - loss: 1.0046 - accuracy: 0.6256\n",
            "Epoch 148/300\n",
            "5/5 [==============================] - 0s 3ms/step - loss: 1.0089 - accuracy: 0.5770\n",
            "Epoch 149/300\n",
            "5/5 [==============================] - 0s 6ms/step - loss: 0.9986 - accuracy: 0.6000\n",
            "Epoch 150/300\n",
            "5/5 [==============================] - 0s 3ms/step - loss: 0.9958 - accuracy: 0.6056\n",
            "Epoch 151/300\n",
            "5/5 [==============================] - 0s 4ms/step - loss: 0.9854 - accuracy: 0.6486\n",
            "Epoch 152/300\n",
            "5/5 [==============================] - 0s 4ms/step - loss: 0.9893 - accuracy: 0.5987\n",
            "Epoch 153/300\n",
            "5/5 [==============================] - 0s 3ms/step - loss: 0.9870 - accuracy: 0.6321\n",
            "Epoch 154/300\n",
            "5/5 [==============================] - 0s 3ms/step - loss: 0.9712 - accuracy: 0.6538\n",
            "Epoch 155/300\n",
            "5/5 [==============================] - 0s 3ms/step - loss: 0.9812 - accuracy: 0.6091\n",
            "Epoch 156/300\n",
            "5/5 [==============================] - 0s 3ms/step - loss: 0.9753 - accuracy: 0.6599\n",
            "Epoch 157/300\n",
            "5/5 [==============================] - 0s 3ms/step - loss: 0.9767 - accuracy: 0.6434\n",
            "Epoch 158/300\n",
            "5/5 [==============================] - 0s 2ms/step - loss: 0.9685 - accuracy: 0.6590\n",
            "Epoch 159/300\n",
            "5/5 [==============================] - 0s 4ms/step - loss: 0.9747 - accuracy: 0.6256\n",
            "Epoch 160/300\n",
            "5/5 [==============================] - 0s 3ms/step - loss: 0.9724 - accuracy: 0.6148\n",
            "Epoch 161/300\n",
            "5/5 [==============================] - 0s 3ms/step - loss: 0.9673 - accuracy: 0.6017\n",
            "Epoch 162/300\n",
            "5/5 [==============================] - 0s 3ms/step - loss: 0.9552 - accuracy: 0.6417\n",
            "Epoch 163/300\n",
            "5/5 [==============================] - 0s 4ms/step - loss: 0.9567 - accuracy: 0.6500\n",
            "Epoch 164/300\n",
            "5/5 [==============================] - 0s 4ms/step - loss: 0.9592 - accuracy: 0.6482\n",
            "Epoch 165/300\n",
            "5/5 [==============================] - 0s 3ms/step - loss: 0.9503 - accuracy: 0.6521\n",
            "Epoch 166/300\n",
            "5/5 [==============================] - 0s 3ms/step - loss: 0.9468 - accuracy: 0.6378\n",
            "Epoch 167/300\n",
            "5/5 [==============================] - 0s 2ms/step - loss: 0.9550 - accuracy: 0.6265\n",
            "Epoch 168/300\n",
            "5/5 [==============================] - 0s 3ms/step - loss: 0.9465 - accuracy: 0.6348\n",
            "Epoch 169/300\n",
            "5/5 [==============================] - 0s 3ms/step - loss: 0.9541 - accuracy: 0.6070\n",
            "Epoch 170/300\n",
            "5/5 [==============================] - 0s 3ms/step - loss: 0.9374 - accuracy: 0.6556\n",
            "Epoch 171/300\n",
            "5/5 [==============================] - 0s 3ms/step - loss: 0.9300 - accuracy: 0.6187\n",
            "Epoch 172/300\n",
            "5/5 [==============================] - 0s 3ms/step - loss: 0.9341 - accuracy: 0.6343\n",
            "Epoch 173/300\n",
            "5/5 [==============================] - 0s 4ms/step - loss: 0.9249 - accuracy: 0.6517\n",
            "Epoch 174/300\n",
            "5/5 [==============================] - 0s 3ms/step - loss: 0.9215 - accuracy: 0.6531\n",
            "Epoch 175/300\n",
            "5/5 [==============================] - 0s 4ms/step - loss: 0.9291 - accuracy: 0.6258\n",
            "Epoch 176/300\n",
            "5/5 [==============================] - 0s 3ms/step - loss: 0.9291 - accuracy: 0.6553\n",
            "Epoch 177/300\n",
            "5/5 [==============================] - 0s 5ms/step - loss: 0.9206 - accuracy: 0.6484\n",
            "Epoch 178/300\n",
            "5/5 [==============================] - 0s 3ms/step - loss: 0.9233 - accuracy: 0.6649\n",
            "Epoch 179/300\n",
            "5/5 [==============================] - 0s 3ms/step - loss: 0.9003 - accuracy: 0.7018\n",
            "Epoch 180/300\n",
            "5/5 [==============================] - 0s 5ms/step - loss: 0.9241 - accuracy: 0.5859\n",
            "Epoch 181/300\n",
            "5/5 [==============================] - 0s 4ms/step - loss: 0.8939 - accuracy: 0.6727\n",
            "Epoch 182/300\n",
            "5/5 [==============================] - 0s 4ms/step - loss: 0.9154 - accuracy: 0.6623\n",
            "Epoch 183/300\n",
            "5/5 [==============================] - 0s 6ms/step - loss: 0.8913 - accuracy: 0.6714\n",
            "Epoch 184/300\n",
            "5/5 [==============================] - 0s 4ms/step - loss: 0.9084 - accuracy: 0.6684\n",
            "Epoch 185/300\n",
            "5/5 [==============================] - 0s 3ms/step - loss: 0.8910 - accuracy: 0.6749\n",
            "Epoch 186/300\n",
            "5/5 [==============================] - 0s 4ms/step - loss: 0.9058 - accuracy: 0.6592\n",
            "Epoch 187/300\n",
            "5/5 [==============================] - 0s 3ms/step - loss: 0.8976 - accuracy: 0.6488\n",
            "Epoch 188/300\n",
            "5/5 [==============================] - 0s 3ms/step - loss: 0.8902 - accuracy: 0.6380\n",
            "Epoch 189/300\n",
            "5/5 [==============================] - 0s 3ms/step - loss: 0.8864 - accuracy: 0.6723\n",
            "Epoch 190/300\n",
            "5/5 [==============================] - 0s 5ms/step - loss: 0.8664 - accuracy: 0.6749\n",
            "Epoch 191/300\n",
            "5/5 [==============================] - 0s 4ms/step - loss: 0.8697 - accuracy: 0.6710\n",
            "Epoch 192/300\n",
            "5/5 [==============================] - 0s 4ms/step - loss: 0.8864 - accuracy: 0.6233\n",
            "Epoch 193/300\n",
            "5/5 [==============================] - 0s 3ms/step - loss: 0.8717 - accuracy: 0.6905\n",
            "Epoch 194/300\n",
            "5/5 [==============================] - 0s 7ms/step - loss: 0.8800 - accuracy: 0.6463\n",
            "Epoch 195/300\n",
            "5/5 [==============================] - 0s 5ms/step - loss: 0.8665 - accuracy: 0.7031\n",
            "Epoch 196/300\n",
            "5/5 [==============================] - 0s 3ms/step - loss: 0.8627 - accuracy: 0.6814\n",
            "Epoch 197/300\n",
            "5/5 [==============================] - 0s 4ms/step - loss: 0.8763 - accuracy: 0.6458\n",
            "Epoch 198/300\n",
            "5/5 [==============================] - 0s 2ms/step - loss: 0.8778 - accuracy: 0.6576\n",
            "Epoch 199/300\n",
            "5/5 [==============================] - 0s 4ms/step - loss: 0.8531 - accuracy: 0.7031\n",
            "Epoch 200/300\n",
            "5/5 [==============================] - 0s 4ms/step - loss: 0.8603 - accuracy: 0.6897\n",
            "Epoch 201/300\n",
            "5/5 [==============================] - 0s 3ms/step - loss: 0.8715 - accuracy: 0.6532\n",
            "Epoch 202/300\n",
            "5/5 [==============================] - 0s 3ms/step - loss: 0.8477 - accuracy: 0.6454\n",
            "Epoch 203/300\n",
            "5/5 [==============================] - 0s 4ms/step - loss: 0.8409 - accuracy: 0.6879\n",
            "Epoch 204/300\n",
            "5/5 [==============================] - 0s 3ms/step - loss: 0.8434 - accuracy: 0.7040\n",
            "Epoch 205/300\n",
            "5/5 [==============================] - 0s 3ms/step - loss: 0.8529 - accuracy: 0.6615\n",
            "Epoch 206/300\n",
            "5/5 [==============================] - 0s 3ms/step - loss: 0.8464 - accuracy: 0.6484\n",
            "Epoch 207/300\n",
            "5/5 [==============================] - 0s 3ms/step - loss: 0.8348 - accuracy: 0.6888\n",
            "Epoch 208/300\n",
            "5/5 [==============================] - 0s 3ms/step - loss: 0.8303 - accuracy: 0.6706\n",
            "Epoch 209/300\n",
            "5/5 [==============================] - 0s 3ms/step - loss: 0.8190 - accuracy: 0.6836\n",
            "Epoch 210/300\n",
            "5/5 [==============================] - 0s 3ms/step - loss: 0.8221 - accuracy: 0.6788\n",
            "Epoch 211/300\n",
            "5/5 [==============================] - 0s 3ms/step - loss: 0.8331 - accuracy: 0.6675\n",
            "Epoch 212/300\n",
            "5/5 [==============================] - 0s 3ms/step - loss: 0.8478 - accuracy: 0.6454\n",
            "Epoch 213/300\n",
            "5/5 [==============================] - 0s 6ms/step - loss: 0.8312 - accuracy: 0.6510\n",
            "Epoch 214/300\n",
            "5/5 [==============================] - 0s 3ms/step - loss: 0.8192 - accuracy: 0.6758\n",
            "Epoch 215/300\n",
            "5/5 [==============================] - 0s 14ms/step - loss: 0.8148 - accuracy: 0.6788\n",
            "Epoch 216/300\n",
            "5/5 [==============================] - 0s 5ms/step - loss: 0.8093 - accuracy: 0.6918\n",
            "Epoch 217/300\n",
            "5/5 [==============================] - 0s 9ms/step - loss: 0.8062 - accuracy: 0.6771\n",
            "Epoch 218/300\n",
            "5/5 [==============================] - 0s 4ms/step - loss: 0.8150 - accuracy: 0.6484\n",
            "Epoch 219/300\n",
            "5/5 [==============================] - 0s 5ms/step - loss: 0.7933 - accuracy: 0.6884\n",
            "Epoch 220/300\n",
            "5/5 [==============================] - 0s 5ms/step - loss: 0.8263 - accuracy: 0.6697\n",
            "Epoch 221/300\n",
            "5/5 [==============================] - 0s 6ms/step - loss: 0.8062 - accuracy: 0.6693\n",
            "Epoch 222/300\n",
            "5/5 [==============================] - 0s 3ms/step - loss: 0.7972 - accuracy: 0.7027\n",
            "Epoch 223/300\n",
            "5/5 [==============================] - 0s 3ms/step - loss: 0.8149 - accuracy: 0.6567\n",
            "Epoch 224/300\n",
            "5/5 [==============================] - 0s 3ms/step - loss: 0.7925 - accuracy: 0.6402\n",
            "Epoch 225/300\n",
            "5/5 [==============================] - 0s 3ms/step - loss: 0.8071 - accuracy: 0.6471\n",
            "Epoch 226/300\n",
            "5/5 [==============================] - 0s 3ms/step - loss: 0.8238 - accuracy: 0.6693\n",
            "Epoch 227/300\n",
            "5/5 [==============================] - 0s 3ms/step - loss: 0.7960 - accuracy: 0.6168\n",
            "Epoch 228/300\n",
            "5/5 [==============================] - 0s 3ms/step - loss: 0.7911 - accuracy: 0.6641\n",
            "Epoch 229/300\n",
            "5/5 [==============================] - 0s 2ms/step - loss: 0.7788 - accuracy: 0.6554\n",
            "Epoch 230/300\n",
            "5/5 [==============================] - 0s 3ms/step - loss: 0.7592 - accuracy: 0.7023\n",
            "Epoch 231/300\n",
            "5/5 [==============================] - 0s 2ms/step - loss: 0.7886 - accuracy: 0.6246\n",
            "Epoch 232/300\n",
            "5/5 [==============================] - 0s 3ms/step - loss: 0.7711 - accuracy: 0.6714\n",
            "Epoch 233/300\n",
            "5/5 [==============================] - 0s 3ms/step - loss: 0.7895 - accuracy: 0.6749\n",
            "Epoch 234/300\n",
            "5/5 [==============================] - 0s 3ms/step - loss: 0.7606 - accuracy: 0.6497\n",
            "Epoch 235/300\n",
            "5/5 [==============================] - 0s 3ms/step - loss: 0.7756 - accuracy: 0.6953\n",
            "Epoch 236/300\n",
            "5/5 [==============================] - 0s 3ms/step - loss: 0.7463 - accuracy: 0.6931\n",
            "Epoch 237/300\n",
            "5/5 [==============================] - 0s 3ms/step - loss: 0.7639 - accuracy: 0.6745\n",
            "Epoch 238/300\n",
            "5/5 [==============================] - 0s 3ms/step - loss: 0.7567 - accuracy: 0.6889\n",
            "Epoch 239/300\n",
            "5/5 [==============================] - 0s 3ms/step - loss: 0.7614 - accuracy: 0.6789\n",
            "Epoch 240/300\n",
            "5/5 [==============================] - 0s 11ms/step - loss: 0.7983 - accuracy: 0.6568\n",
            "Epoch 241/300\n",
            "5/5 [==============================] - 0s 8ms/step - loss: 0.7577 - accuracy: 0.6828\n",
            "Epoch 242/300\n",
            "5/5 [==============================] - 0s 4ms/step - loss: 0.7614 - accuracy: 0.6399\n",
            "Epoch 243/300\n",
            "5/5 [==============================] - 0s 4ms/step - loss: 0.7441 - accuracy: 0.6877\n",
            "Epoch 244/300\n",
            "5/5 [==============================] - 0s 6ms/step - loss: 0.7590 - accuracy: 0.7028\n",
            "Epoch 245/300\n",
            "5/5 [==============================] - 0s 5ms/step - loss: 0.7290 - accuracy: 0.7089\n",
            "Epoch 246/300\n",
            "5/5 [==============================] - 0s 6ms/step - loss: 0.7708 - accuracy: 0.6651\n",
            "Epoch 247/300\n",
            "5/5 [==============================] - 0s 3ms/step - loss: 0.7465 - accuracy: 0.6746\n",
            "Epoch 248/300\n",
            "5/5 [==============================] - 0s 4ms/step - loss: 0.7546 - accuracy: 0.6503\n",
            "Epoch 249/300\n",
            "5/5 [==============================] - 0s 4ms/step - loss: 0.7457 - accuracy: 0.6955\n",
            "Epoch 250/300\n",
            "5/5 [==============================] - 0s 4ms/step - loss: 0.7387 - accuracy: 0.7120\n",
            "Epoch 251/300\n",
            "5/5 [==============================] - 0s 4ms/step - loss: 0.7358 - accuracy: 0.7241\n",
            "Epoch 252/300\n",
            "5/5 [==============================] - 0s 3ms/step - loss: 0.7491 - accuracy: 0.6695\n",
            "Epoch 253/300\n",
            "5/5 [==============================] - 0s 4ms/step - loss: 0.7234 - accuracy: 0.6777\n",
            "Epoch 254/300\n",
            "5/5 [==============================] - 0s 4ms/step - loss: 0.7274 - accuracy: 0.6829\n",
            "Epoch 255/300\n",
            "5/5 [==============================] - 0s 4ms/step - loss: 0.7160 - accuracy: 0.7302\n",
            "Epoch 256/300\n",
            "5/5 [==============================] - 0s 3ms/step - loss: 0.7346 - accuracy: 0.6909\n",
            "Epoch 257/300\n",
            "5/5 [==============================] - 0s 10ms/step - loss: 0.7287 - accuracy: 0.7195\n",
            "Epoch 258/300\n",
            "5/5 [==============================] - 0s 5ms/step - loss: 0.7133 - accuracy: 0.7325\n",
            "Epoch 259/300\n",
            "5/5 [==============================] - 0s 3ms/step - loss: 0.7406 - accuracy: 0.7060\n",
            "Epoch 260/300\n",
            "5/5 [==============================] - 0s 4ms/step - loss: 0.6885 - accuracy: 0.7173\n",
            "Epoch 261/300\n",
            "5/5 [==============================] - 0s 3ms/step - loss: 0.7404 - accuracy: 0.7082\n",
            "Epoch 262/300\n",
            "5/5 [==============================] - 0s 3ms/step - loss: 0.7078 - accuracy: 0.7117\n",
            "Epoch 263/300\n",
            "5/5 [==============================] - 0s 3ms/step - loss: 0.7000 - accuracy: 0.7412\n",
            "Epoch 264/300\n",
            "5/5 [==============================] - 0s 3ms/step - loss: 0.6893 - accuracy: 0.7520\n",
            "Epoch 265/300\n",
            "5/5 [==============================] - 0s 3ms/step - loss: 0.7301 - accuracy: 0.6804\n",
            "Epoch 266/300\n",
            "5/5 [==============================] - 0s 4ms/step - loss: 0.7060 - accuracy: 0.7113\n",
            "Epoch 267/300\n",
            "5/5 [==============================] - 0s 3ms/step - loss: 0.7007 - accuracy: 0.6970\n",
            "Epoch 268/300\n",
            "5/5 [==============================] - 0s 5ms/step - loss: 0.7136 - accuracy: 0.6939\n",
            "Epoch 269/300\n",
            "5/5 [==============================] - 0s 5ms/step - loss: 0.7190 - accuracy: 0.6848\n",
            "Epoch 270/300\n",
            "5/5 [==============================] - 0s 3ms/step - loss: 0.7134 - accuracy: 0.7113\n",
            "Epoch 271/300\n",
            "5/5 [==============================] - 0s 3ms/step - loss: 0.6976 - accuracy: 0.7009\n",
            "Epoch 272/300\n",
            "5/5 [==============================] - 0s 4ms/step - loss: 0.6828 - accuracy: 0.7509\n",
            "Epoch 273/300\n",
            "5/5 [==============================] - 0s 3ms/step - loss: 0.7146 - accuracy: 0.6840\n",
            "Epoch 274/300\n",
            "5/5 [==============================] - 0s 4ms/step - loss: 0.6696 - accuracy: 0.7326\n",
            "Epoch 275/300\n",
            "5/5 [==============================] - 0s 4ms/step - loss: 0.7348 - accuracy: 0.6706\n",
            "Epoch 276/300\n",
            "5/5 [==============================] - 0s 3ms/step - loss: 0.6985 - accuracy: 0.7079\n",
            "Epoch 277/300\n",
            "5/5 [==============================] - 0s 3ms/step - loss: 0.6753 - accuracy: 0.7192\n",
            "Epoch 278/300\n",
            "5/5 [==============================] - 0s 3ms/step - loss: 0.6894 - accuracy: 0.7144\n",
            "Epoch 279/300\n",
            "5/5 [==============================] - 0s 3ms/step - loss: 0.7018 - accuracy: 0.7426\n",
            "Epoch 280/300\n",
            "5/5 [==============================] - 0s 3ms/step - loss: 0.6685 - accuracy: 0.7522\n",
            "Epoch 281/300\n",
            "5/5 [==============================] - 0s 3ms/step - loss: 0.6752 - accuracy: 0.7492\n",
            "Epoch 282/300\n",
            "5/5 [==============================] - 0s 2ms/step - loss: 0.6946 - accuracy: 0.7162\n",
            "Epoch 283/300\n",
            "5/5 [==============================] - 0s 3ms/step - loss: 0.6922 - accuracy: 0.7670\n",
            "Epoch 284/300\n",
            "5/5 [==============================] - 0s 3ms/step - loss: 0.6608 - accuracy: 0.7322\n",
            "Epoch 285/300\n",
            "5/5 [==============================] - 0s 6ms/step - loss: 0.6860 - accuracy: 0.7102\n",
            "Epoch 286/300\n",
            "5/5 [==============================] - 0s 3ms/step - loss: 0.6869 - accuracy: 0.7388\n",
            "Epoch 287/300\n",
            "5/5 [==============================] - 0s 7ms/step - loss: 0.6819 - accuracy: 0.7418\n",
            "Epoch 288/300\n",
            "5/5 [==============================] - 0s 4ms/step - loss: 0.6704 - accuracy: 0.7466\n",
            "Epoch 289/300\n",
            "5/5 [==============================] - 0s 4ms/step - loss: 0.6545 - accuracy: 0.7549\n",
            "Epoch 290/300\n",
            "5/5 [==============================] - 0s 7ms/step - loss: 0.6761 - accuracy: 0.7380\n",
            "Epoch 291/300\n",
            "5/5 [==============================] - 0s 5ms/step - loss: 0.6875 - accuracy: 0.7497\n",
            "Epoch 292/300\n",
            "5/5 [==============================] - 0s 5ms/step - loss: 0.6793 - accuracy: 0.7042\n",
            "Epoch 293/300\n",
            "5/5 [==============================] - 0s 3ms/step - loss: 0.6602 - accuracy: 0.7636\n",
            "Epoch 294/300\n",
            "5/5 [==============================] - 0s 3ms/step - loss: 0.6420 - accuracy: 0.7667\n",
            "Epoch 295/300\n",
            "5/5 [==============================] - 0s 3ms/step - loss: 0.6824 - accuracy: 0.7120\n",
            "Epoch 296/300\n",
            "5/5 [==============================] - 0s 3ms/step - loss: 0.6709 - accuracy: 0.7358\n",
            "Epoch 297/300\n",
            "5/5 [==============================] - 0s 3ms/step - loss: 0.6512 - accuracy: 0.7597\n",
            "Epoch 298/300\n",
            "5/5 [==============================] - 0s 3ms/step - loss: 0.6492 - accuracy: 0.7623\n",
            "Epoch 299/300\n",
            "5/5 [==============================] - 0s 3ms/step - loss: 0.6616 - accuracy: 0.7532\n",
            "Epoch 300/300\n",
            "5/5 [==============================] - 0s 2ms/step - loss: 0.6467 - accuracy: 0.7449\n"
          ],
          "name": "stdout"
        },
        {
          "output_type": "execute_result",
          "data": {
            "text/plain": [
              "<tensorflow.python.keras.callbacks.History at 0x7f39fd802d10>"
            ]
          },
          "metadata": {
            "tags": []
          },
          "execution_count": 31
        }
      ]
    },
    {
      "cell_type": "code",
      "metadata": {
        "id": "G84gCltMBi_4"
      },
      "source": [
        "model.save(\"final_iris_model.h5\")"
      ],
      "execution_count": null,
      "outputs": []
    },
    {
      "cell_type": "markdown",
      "metadata": {
        "id": "E2W2F80WBi_5"
      },
      "source": [
        "### Saving Scaler"
      ]
    },
    {
      "cell_type": "code",
      "metadata": {
        "id": "LmwtXNebBi_6"
      },
      "source": [
        "import joblib"
      ],
      "execution_count": null,
      "outputs": []
    },
    {
      "cell_type": "code",
      "metadata": {
        "colab": {
          "base_uri": "https://localhost:8080/"
        },
        "id": "DDgV5sbXBi_7",
        "outputId": "672d5f51-973c-412d-eff9-53f5caae5bd3"
      },
      "source": [
        "joblib.dump(scaler,'iris_scaler.pkl')"
      ],
      "execution_count": null,
      "outputs": [
        {
          "output_type": "execute_result",
          "data": {
            "text/plain": [
              "['iris_scaler.pkl']"
            ]
          },
          "metadata": {
            "tags": []
          },
          "execution_count": 34
        }
      ]
    },
    {
      "cell_type": "markdown",
      "metadata": {
        "id": "a78OuLLKBi_8"
      },
      "source": [
        "## Predicting a Single New Flower"
      ]
    },
    {
      "cell_type": "code",
      "metadata": {
        "id": "YmiPorOjBi_9"
      },
      "source": [
        "from tensorflow.keras.models import load_model"
      ],
      "execution_count": null,
      "outputs": []
    },
    {
      "cell_type": "code",
      "metadata": {
        "id": "bIscdsEuBi_9"
      },
      "source": [
        "flower_model = load_model(\"final_iris_model.h5\")\n",
        "flower_scaler = joblib.load(\"iris_scaler.pkl\")"
      ],
      "execution_count": null,
      "outputs": []
    },
    {
      "cell_type": "code",
      "metadata": {
        "colab": {
          "base_uri": "https://localhost:8080/",
          "height": 77
        },
        "id": "om8JAgcJBi_-",
        "outputId": "2a8439d2-2642-4938-dc89-e9f70ad3d282"
      },
      "source": [
        "iris.head(1)"
      ],
      "execution_count": null,
      "outputs": [
        {
          "output_type": "execute_result",
          "data": {
            "text/html": [
              "<div>\n",
              "<style scoped>\n",
              "    .dataframe tbody tr th:only-of-type {\n",
              "        vertical-align: middle;\n",
              "    }\n",
              "\n",
              "    .dataframe tbody tr th {\n",
              "        vertical-align: top;\n",
              "    }\n",
              "\n",
              "    .dataframe thead th {\n",
              "        text-align: right;\n",
              "    }\n",
              "</style>\n",
              "<table border=\"1\" class=\"dataframe\">\n",
              "  <thead>\n",
              "    <tr style=\"text-align: right;\">\n",
              "      <th></th>\n",
              "      <th>sepal_length</th>\n",
              "      <th>sepal_width</th>\n",
              "      <th>petal_length</th>\n",
              "      <th>petal_width</th>\n",
              "      <th>species</th>\n",
              "    </tr>\n",
              "  </thead>\n",
              "  <tbody>\n",
              "    <tr>\n",
              "      <th>0</th>\n",
              "      <td>5.1</td>\n",
              "      <td>3.5</td>\n",
              "      <td>1.4</td>\n",
              "      <td>0.2</td>\n",
              "      <td>setosa</td>\n",
              "    </tr>\n",
              "  </tbody>\n",
              "</table>\n",
              "</div>"
            ],
            "text/plain": [
              "   sepal_length  sepal_width  petal_length  petal_width species\n",
              "0           5.1          3.5           1.4          0.2  setosa"
            ]
          },
          "metadata": {
            "tags": []
          },
          "execution_count": 37
        }
      ]
    },
    {
      "cell_type": "code",
      "metadata": {
        "id": "y3MpOVLBBi__"
      },
      "source": [
        "flower_example = {'sepal_length':5.1,\n",
        "                 'sepal_width':3.5,\n",
        "                 'petal_length':1.4,\n",
        "                 'petal_width':0.2}"
      ],
      "execution_count": null,
      "outputs": []
    },
    {
      "cell_type": "code",
      "metadata": {
        "colab": {
          "base_uri": "https://localhost:8080/"
        },
        "id": "zRWigLE4Bi__",
        "outputId": "9201f846-3784-4b00-d491-f4b34c61a659"
      },
      "source": [
        "flower_example.keys()"
      ],
      "execution_count": null,
      "outputs": [
        {
          "output_type": "execute_result",
          "data": {
            "text/plain": [
              "dict_keys(['sepal_length', 'sepal_width', 'petal_length', 'petal_width'])"
            ]
          },
          "metadata": {
            "tags": []
          },
          "execution_count": 39
        }
      ]
    },
    {
      "cell_type": "code",
      "metadata": {
        "colab": {
          "base_uri": "https://localhost:8080/"
        },
        "id": "sy3LUpktBi__",
        "outputId": "58f1b430-ffb7-4fad-8d90-a6b44719b37a"
      },
      "source": [
        "encoder.classes_"
      ],
      "execution_count": null,
      "outputs": [
        {
          "output_type": "execute_result",
          "data": {
            "text/plain": [
              "array(['setosa', 'versicolor', 'virginica'], dtype='<U10')"
            ]
          },
          "metadata": {
            "tags": []
          },
          "execution_count": 40
        }
      ]
    },
    {
      "cell_type": "code",
      "metadata": {
        "id": "cIxW_OCwBjAA"
      },
      "source": [
        "def return_prediction(model,scaler,sample_json):\n",
        "    \n",
        "    # For larger data features, you should probably write a for loop\n",
        "    # That builds out this array for you\n",
        "    \n",
        "    s_len = sample_json['sepal_length']\n",
        "    s_wid = sample_json['sepal_width']\n",
        "    p_len = sample_json['petal_length']\n",
        "    p_wid = sample_json['petal_width']\n",
        "    \n",
        "    flower = [[s_len,s_wid,p_len,p_wid]]\n",
        "    \n",
        "    flower = scaler.transform(flower)\n",
        "    \n",
        "    classes = np.array(['setosa', 'versicolor', 'virginica'])\n",
        "    \n",
        "    class_ind = model.predict_classes(flower)\n",
        "    \n",
        "    return classes[class_ind][0]\n",
        "                    "
      ],
      "execution_count": null,
      "outputs": []
    },
    {
      "cell_type": "code",
      "metadata": {
        "id": "StdH_2m3j118"
      },
      "source": [
        "import joblib\n",
        "import pickle\n",
        "\n",
        "\n",
        "# model = pickle.dump(model,open('model.'))\n",
        "pickle.dump(model,open('model.pkl','wb'))\n",
        "\n",
        "\n",
        "\n"
      ],
      "execution_count": 2,
      "outputs": []
    },
    {
      "cell_type": "code",
      "metadata": {
        "colab": {
          "base_uri": "https://localhost:8080/",
          "height": 90
        },
        "id": "wYVPaXrwBjAA",
        "outputId": "46f060c9-5865-42c6-9bdd-6395a8b43b55"
      },
      "source": [
        "return_prediction(flower_model,flower_scaler,flower_example)"
      ],
      "execution_count": null,
      "outputs": [
        {
          "output_type": "stream",
          "text": [
            "/usr/local/lib/python3.7/dist-packages/tensorflow/python/keras/engine/sequential.py:450: UserWarning: `model.predict_classes()` is deprecated and will be removed after 2021-01-01. Please use instead:* `np.argmax(model.predict(x), axis=-1)`,   if your model does multi-class classification   (e.g. if it uses a `softmax` last-layer activation).* `(model.predict(x) > 0.5).astype(\"int32\")`,   if your model does binary classification   (e.g. if it uses a `sigmoid` last-layer activation).\n",
            "  warnings.warn('`model.predict_classes()` is deprecated and '\n"
          ],
          "name": "stderr"
        },
        {
          "output_type": "execute_result",
          "data": {
            "application/vnd.google.colaboratory.intrinsic+json": {
              "type": "string"
            },
            "text/plain": [
              "'setosa'"
            ]
          },
          "metadata": {
            "tags": []
          },
          "execution_count": 42
        }
      ]
    },
    {
      "cell_type": "markdown",
      "metadata": {
        "id": "f-UHDWMmBjAB"
      },
      "source": [
        "# CODE FOR DEPLOYMENT:"
      ]
    },
    {
      "cell_type": "code",
      "metadata": {
        "id": "CnTzJiVWBjAB"
      },
      "source": [
        "from tensorflow.keras.models import load_model\n",
        "import joblib\n",
        "\n",
        "\n",
        "flower_model = load_model(\"final_iris_model.h5\")\n",
        "flower_scaler = joblib.load(\"iris_scaler.pkl\")\n",
        "\n",
        "\n",
        "def return_prediction(model,scaler,sample_json):\n",
        "    \n",
        "    # For larger data features, you should probably write a for loop\n",
        "    # That builds out this array for you\n",
        "    \n",
        "    s_len = sample_json['sepal_length']\n",
        "    s_wid = sample_json['sepal_width']\n",
        "    p_len = sample_json['petal_length']\n",
        "    p_wid = sample_json['petal_width']\n",
        "    \n",
        "    flower = [[s_len,s_wid,p_len,p_wid]]\n",
        "    \n",
        "    flower = scaler.transform(flower)\n",
        "    \n",
        "    classes = np.array(['setosa', 'versicolor', 'virginica'])\n",
        "    \n",
        "    class_ind = model.predict_classes(flower)\n",
        "    \n",
        "    return classes[class_ind][0]\n",
        "\n",
        "\n",
        "  "
      ],
      "execution_count": null,
      "outputs": []
    },
    {
      "cell_type": "code",
      "metadata": {
        "id": "VjVQm_8QBjAC"
      },
      "source": [
        "flower_example = {\n",
        "\"sepal_length\":5.1,\n",
        "\"sepal_width\":3.5,\n",
        "\"petal_length\":1.4,\n",
        "\"petal_width\":0.2\n",
        "}"
      ],
      "execution_count": null,
      "outputs": []
    },
    {
      "cell_type": "code",
      "metadata": {
        "id": "HI3ViYENvCiK"
      },
      "source": [
        "import requests"
      ],
      "execution_count": null,
      "outputs": []
    },
    {
      "cell_type": "code",
      "metadata": {
        "id": "_QhT5W02vEgU"
      },
      "source": [
        "# result = requests.post(\"http://locpspdfkitalhost:5000/api/flower\",json = flower_example)"
      ],
      "execution_count": 1,
      "outputs": []
    },
    {
      "cell_type": "code",
      "metadata": {
        "id": "DJu9xSlYvNfW"
      },
      "source": [
        ""
      ],
      "execution_count": null,
      "outputs": []
    }
  ]
}